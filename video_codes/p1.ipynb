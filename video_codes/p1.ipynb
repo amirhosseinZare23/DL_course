{
  "cells": [
    {
      "cell_type": "markdown",
      "metadata": {
        "id": "0e0i1KQFOp_R"
      },
      "source": [
        "# AmirhosseinZare\n",
        "## DL-SM\n",
        "## video: 02:30 untill 04:15"
      ]
    },
    {
      "cell_type": "code",
      "execution_count": null,
      "metadata": {
        "id": "l4cGHO8N5SRv"
      },
      "outputs": [],
      "source": [
        "import numpy as np"
      ]
    },
    {
      "cell_type": "code",
      "execution_count": null,
      "metadata": {
        "colab": {
          "base_uri": "https://localhost:8080/"
        },
        "id": "wU7y4Wpk55--",
        "outputId": "121e8d99-cee8-4fee-a6da-c1130d2aac4c"
      },
      "outputs": [
        {
          "name": "stdout",
          "output_type": "stream",
          "text": [
            "(3, 4)\n",
            "(4, 5)\n",
            "matmul C:\n",
            "[[33 69 77 -6 27]\n",
            " [ 9 12  0 10 13]\n",
            " [21 51 60 -7 14]]\n",
            "einsum C:\n",
            "[[33 69 77 -6 27]\n",
            " [ 9 12  0 10 13]\n",
            " [21 51 60 -7 14]]\n"
          ]
        }
      ],
      "source": [
        "A = np.array([[2,6,5,2],\n",
        "              [2,-2,2,3],\n",
        "              [1,5,4,0]])\n",
        "\n",
        "B = np.array([[2,9,0,3,0],\n",
        "              [3,6,8,-2,2],\n",
        "              [1,3,5,0,1],\n",
        "              [3,0,2,0,5]])\n",
        "\n",
        "print(A.shape)\n",
        "print(B.shape)\n",
        "\n",
        "print(\"matmul C:\")\n",
        "print(np.matmul(A,B))\n",
        "\n",
        "print(\"einsum C:\")\n",
        "print(np.einsum(\"ij,jk -> ik\", A, B))"
      ]
    },
    {
      "cell_type": "code",
      "execution_count": null,
      "metadata": {
        "colab": {
          "base_uri": "https://localhost:8080/"
        },
        "id": "JqktXJc77yn2",
        "outputId": "1424116f-8dcf-4c17-d8a6-9d1ef540f816"
      },
      "outputs": [
        {
          "name": "stdout",
          "output_type": "stream",
          "text": [
            "(3, 4)\n",
            "(3, 4)\n",
            "hardmond C:\n",
            "[[  4  54   0   6]\n",
            " [  6 -12  16  -6]\n",
            " [  1  15  20   0]]\n",
            "einsum C:\n",
            "[[  4  54   0   6]\n",
            " [  6 -12  16  -6]\n",
            " [  1  15  20   0]]\n"
          ]
        }
      ],
      "source": [
        "A = np.array([[2,6,5,2],\n",
        "              [2,-2,2,3],\n",
        "              [1,5,4,0]])\n",
        "\n",
        "B = np.array([[2,9,0,3],\n",
        "              [3,6,8,-2],\n",
        "              [1,3,5,0]])\n",
        "\n",
        "print(A.shape)\n",
        "print(B.shape)\n",
        "\n",
        "print(\"hardmond C:\")\n",
        "print(A*B)\n",
        "\n",
        "print(\"einsum C:\")\n",
        "print(np.einsum(\"ij,ij -> ij\", A, B))"
      ]
    },
    {
      "cell_type": "code",
      "execution_count": null,
      "metadata": {
        "colab": {
          "base_uri": "https://localhost:8080/"
        },
        "id": "ZFK7zYsL6ZZj",
        "outputId": "871cbf0c-3daf-4da5-93da-496385a57e48"
      },
      "outputs": [
        {
          "name": "stdout",
          "output_type": "stream",
          "text": [
            "Transposed A :\n",
            "[[ 2  2  1]\n",
            " [ 6 -2  5]\n",
            " [ 5  2  4]\n",
            " [ 2  3  0]]\n",
            "einsum Transposed A:\n",
            "[[ 2  2  1]\n",
            " [ 6 -2  5]\n",
            " [ 5  2  4]\n",
            " [ 2  3  0]]\n"
          ]
        }
      ],
      "source": [
        "A = np.array([[2,6,5,2],\n",
        "              [2,-2,2,3],\n",
        "              [1,5,4,0]])\n",
        "\n",
        "\n",
        "print(\"Transposed A :\")\n",
        "print(A.T)\n",
        "\n",
        "print(\"einsum Transposed A:\")\n",
        "print(np.einsum(\"ij -> ji\", A))"
      ]
    },
    {
      "cell_type": "code",
      "execution_count": null,
      "metadata": {
        "colab": {
          "base_uri": "https://localhost:8080/"
        },
        "id": "uD8BB_Rk8j-k",
        "outputId": "dc98c5df-f224-423a-95b5-35cc85fe22a5"
      },
      "outputs": [
        {
          "name": "stdout",
          "output_type": "stream",
          "text": [
            "(2, 3, 4)\n",
            "(2, 4, 5)\n",
            "batch Mul C:\n",
            "[[[33 69 77 -6 27]\n",
            "  [ 9 12  0 10 13]\n",
            "  [21 51 60 -7 14]]\n",
            "\n",
            " [[77  0 36 19  6]\n",
            "  [ 8  0 12 -4  4]\n",
            "  [23  0 29 -6 10]]]\n",
            "einsum C:\n",
            "[[[33 69 77 -6 27]\n",
            "  [ 9 12  0 10 13]\n",
            "  [21 51 60 -7 14]]\n",
            "\n",
            " [[77  0 36 19  6]\n",
            "  [ 8  0 12 -4  4]\n",
            "  [23  0 29 -6 10]]]\n"
          ]
        }
      ],
      "source": [
        "A = np.array([[[2,6,5,2],\n",
        "              [2,-2,2,3],\n",
        "              [1,5,4,0]],\n",
        "\n",
        "              [[1,3,1,22],\n",
        "               [0,2,2,0],\n",
        "               [1,5,4,1]]])\n",
        "\n",
        "B = np.array([[[2,9,0,3,0],\n",
        "              [3,6,8,-2,2],\n",
        "              [1,3,5,0,1],\n",
        "              [3,0,2,0,5]],\n",
        "\n",
        "              [[1,0,0,3,0],\n",
        "               [3,0,4,-2,2],\n",
        "               [1,0,2,0,0],\n",
        "               [3,0,1,1,0]]])\n",
        "\n",
        "print(A.shape)\n",
        "print(B.shape)\n",
        "\n",
        "print(\"batch Mul C:\")\n",
        "print(np.matmul(A,B))\n",
        "\n",
        "print(\"einsum C:\")\n",
        "print(np.einsum(\"bij,bjk -> bik\", A, B))"
      ]
    },
    {
      "cell_type": "code",
      "execution_count": null,
      "metadata": {
        "colab": {
          "base_uri": "https://localhost:8080/"
        },
        "id": "Dq4eiybz-57I",
        "outputId": "01bf2ef7-2d65-4837-c6a5-a22bfd74d2f5"
      },
      "outputs": [
        {
          "name": "stdout",
          "output_type": "stream",
          "text": [
            "sum A:\n",
            "72\n",
            "einsum A:\n",
            "72\n"
          ]
        }
      ],
      "source": [
        "A = np.array([[[2,6,5,2],\n",
        "              [2,-2,2,3],\n",
        "              [1,5,4,0]],\n",
        "\n",
        "              [[1,3,1,22],\n",
        "               [0,2,2,0],\n",
        "               [1,5,4,1]]])\n",
        "\n",
        "print(\"sum A:\")\n",
        "print(np.sum(A))\n",
        "\n",
        "print(\"einsum A:\")\n",
        "print(np.einsum('bij -> ', A))"
      ]
    },
    {
      "cell_type": "code",
      "execution_count": null,
      "metadata": {
        "colab": {
          "base_uri": "https://localhost:8080/"
        },
        "id": "nsYPIBhX_JZ3",
        "outputId": "054a1a30-afcb-4b64-b1f3-92310ff97356"
      },
      "outputs": [
        {
          "name": "stdout",
          "output_type": "stream",
          "text": [
            "Axis 0 sum A:\n",
            "[ 5  9 11  5]\n",
            "einsum A:\n",
            "[ 5  9 11  5]\n",
            "Axis 0 sum A:\n",
            "[15  5 10]\n",
            "einsum A:\n",
            "[15  5 10]\n"
          ]
        }
      ],
      "source": [
        "A = np.array([[2,6,5,2],\n",
        "              [2,-2,2,3],\n",
        "              [1,5,4,0]])\n",
        "\n",
        "print(\"Axis 0 sum A:\")\n",
        "print(np.sum(A, axis=0))\n",
        "\n",
        "print(\"einsum A:\")\n",
        "print(np.einsum('ij -> j', A))\n",
        "\n",
        "print(\"Axis 0 sum A:\")\n",
        "print(np.sum(A, axis=1))\n",
        "\n",
        "print(\"einsum A:\")\n",
        "print(np.einsum('ij -> i', A))"
      ]
    },
    {
      "cell_type": "code",
      "execution_count": null,
      "metadata": {
        "id": "MoUBPWAC_28P"
      },
      "outputs": [],
      "source": [
        "Q = np.random.randn(32,64, 512)\n",
        "K = np.random.randn(32,128, 512)"
      ]
    },
    {
      "cell_type": "code",
      "execution_count": null,
      "metadata": {
        "colab": {
          "base_uri": "https://localhost:8080/"
        },
        "id": "flokRWUKZZg8",
        "outputId": "e31cdfe8-f05f-4896-b9a9-da1d33cf3279"
      },
      "outputs": [
        {
          "data": {
            "text/plain": [
              "(32, 64, 128)"
            ]
          },
          "execution_count": 9,
          "metadata": {},
          "output_type": "execute_result"
        }
      ],
      "source": [
        "np.einsum(\"bqm,bkm -> bqk\", Q,K).shape"
      ]
    },
    {
      "cell_type": "code",
      "execution_count": null,
      "metadata": {
        "id": "1StYDsdYZl3T"
      },
      "outputs": [],
      "source": [
        "A = np.random.randn(2,4,4,2)\n",
        "B = np.random.randn(2,4,4,1)"
      ]
    },
    {
      "cell_type": "code",
      "execution_count": null,
      "metadata": {
        "colab": {
          "base_uri": "https://localhost:8080/"
        },
        "id": "4Li1wCzCaN6T",
        "outputId": "db4cee4a-8ded-45db-f09f-148de15d90e6"
      },
      "outputs": [
        {
          "data": {
            "text/plain": [
              "(2, 4, 1, 2)"
            ]
          },
          "execution_count": 11,
          "metadata": {},
          "output_type": "execute_result"
        }
      ],
      "source": [
        "np.einsum(\"bcik,bcij -> bckj\", B, A).shape"
      ]
    },
    {
      "cell_type": "code",
      "execution_count": null,
      "metadata": {
        "colab": {
          "base_uri": "https://localhost:8080/"
        },
        "id": "C1wSTwUSaU9f",
        "outputId": "1de2a1eb-3c05-48f3-c633-31314f30cb9d"
      },
      "outputs": [
        {
          "data": {
            "text/plain": [
              "(2, 4, 1, 2)"
            ]
          },
          "execution_count": 12,
          "metadata": {},
          "output_type": "execute_result"
        }
      ],
      "source": [
        "np.matmul(np.transpose(B, (0,1,3,2)), A).shape"
      ]
    },
    {
      "cell_type": "code",
      "execution_count": null,
      "metadata": {
        "colab": {
          "base_uri": "https://localhost:8080/"
        },
        "id": "JPlx1bWqaiSa",
        "outputId": "4d9bcc0b-2957-4561-b2a1-f06fdebb623f"
      },
      "outputs": [
        {
          "name": "stdout",
          "output_type": "stream",
          "text": [
            "(3, 2, 3)\n",
            "(1, 3, 2, 3)\n"
          ]
        }
      ],
      "source": [
        "import tensorflow as tf\n",
        "tensor_three_d = tf.constant([\n",
        "    [[1,2,3],\n",
        "    [4,5,6]],\n",
        "\n",
        "    [[7,8,9],\n",
        "    [-1,-2,-3]],\n",
        "\n",
        "    [[2,5,9],\n",
        "    [-2,6,-3]],\n",
        "])\n",
        "print(tensor_three_d.shape)\n",
        "print(tf.expand_dims(tensor_three_d, axis=0).shape)"
      ]
    },
    {
      "cell_type": "code",
      "execution_count": null,
      "metadata": {
        "colab": {
          "base_uri": "https://localhost:8080/"
        },
        "id": "UaDD3WYxa16M",
        "outputId": "fd044d9e-2c2b-4d75-ff0c-7d35bf5fff70"
      },
      "outputs": [
        {
          "name": "stdout",
          "output_type": "stream",
          "text": [
            "(1, 1, 4)\n",
            "tf.Tensor([[[[2 3 4 5]]]], shape=(1, 1, 1, 4), dtype=int32)\n"
          ]
        }
      ],
      "source": [
        "x = tf.constant([[[2,3,4,5]]])\n",
        "print(x.shape)\n",
        "x_expanded = tf.expand_dims(x,axis=0)\n",
        "print(x_expanded)"
      ]
    },
    {
      "cell_type": "code",
      "execution_count": null,
      "metadata": {
        "colab": {
          "base_uri": "https://localhost:8080/"
        },
        "id": "X938XaeTbWnC",
        "outputId": "772955b5-0342-4bb7-862f-dddf69d94a7d"
      },
      "outputs": [
        {
          "name": "stdout",
          "output_type": "stream",
          "text": [
            "tf.Tensor([2 3 4 5], shape=(4,), dtype=int32)\n"
          ]
        }
      ],
      "source": [
        "x_squeezed = tf.squeeze(x_expanded, axis=0)\n",
        "for i in range(2):\n",
        "  x_squeezed = tf.squeeze(x_squeezed, axis=0)\n",
        "\n",
        "print(x_squeezed)"
      ]
    },
    {
      "cell_type": "code",
      "execution_count": null,
      "metadata": {
        "colab": {
          "base_uri": "https://localhost:8080/"
        },
        "id": "oPch8bDSntEH",
        "outputId": "a64a7b22-ee85-49fb-94f2-d44c6348b771"
      },
      "outputs": [
        {
          "name": "stdout",
          "output_type": "stream",
          "text": [
            "(3, 2, 3)\n",
            "tf.Tensor(\n",
            "[[[ 1  2  3]\n",
            "  [ 4  5  6]]\n",
            "\n",
            " [[ 7  8  9]\n",
            "  [-1 -2 -3]]\n",
            "\n",
            " [[ 2  5  9]\n",
            "  [-2  6 -3]]], shape=(3, 2, 3), dtype=int32)\n",
            "tf.Tensor(\n",
            "[[[ 1  2  3]\n",
            "  [ 4  5  6]]\n",
            "\n",
            " [[ 7  8  9]\n",
            "  [-1 -2 -3]]\n",
            "\n",
            " [[ 2  5  9]\n",
            "  [-2  6 -3]]], shape=(3, 2, 3), dtype=int32)\n"
          ]
        }
      ],
      "source": [
        "tensor_three_d = tf.constant([\n",
        "    [[1,2,3],\n",
        "    [4,5,6]],\n",
        "\n",
        "    [[7,8,9],\n",
        "    [-1,-2,-3]],\n",
        "\n",
        "    [[2,5,9],\n",
        "    [-2,6,-3]],\n",
        "])\n",
        "print(tensor_three_d.shape)\n",
        "x_exp = tf.expand_dims(tensor_three_d, axis=3)\n",
        "print(tf.squeeze(x_exp, axis=3))\n",
        "print(tf.reshape(x_exp, [3,2,3]))"
      ]
    },
    {
      "cell_type": "code",
      "execution_count": null,
      "metadata": {
        "colab": {
          "base_uri": "https://localhost:8080/"
        },
        "id": "OdBaAJ-VodnU",
        "outputId": "35986895-cf75-4482-f063-3714aef76d03"
      },
      "outputs": [
        {
          "data": {
            "text/plain": [
              "<tf.Tensor: shape=(8,), dtype=int32, numpy=array([ 3,  5,  6,  6,  4,  6, -1,  2], dtype=int32)>"
            ]
          },
          "execution_count": 17,
          "metadata": {},
          "output_type": "execute_result"
        }
      ],
      "source": [
        "x_reshape = tf.constant([[3,5,6,6],\n",
        "                         [4,6,-1,2]])\n",
        "tf.reshape(x_reshape, [-1])\n",
        "tf.reshape(x_reshape, [8])"
      ]
    },
    {
      "cell_type": "code",
      "execution_count": null,
      "metadata": {
        "colab": {
          "base_uri": "https://localhost:8080/"
        },
        "id": "ecKxFFZvpaGt",
        "outputId": "669b3737-8f86-4aa2-d409-a46eeaad0c1a"
      },
      "outputs": [
        {
          "name": "stdout",
          "output_type": "stream",
          "text": [
            "(1, 2, 3)\n",
            "(1, 2, 3)\n"
          ]
        },
        {
          "data": {
            "text/plain": [
              "<tf.Tensor: shape=(1, 2, 6), dtype=int32, numpy=\n",
              "array([[[ 1,  2,  3,  7,  8,  9],\n",
              "        [ 4,  5,  6, 10, 11, 12]]], dtype=int32)>"
            ]
          },
          "execution_count": 18,
          "metadata": {},
          "output_type": "execute_result"
        }
      ],
      "source": [
        "t1 = [[[1,2,3],\n",
        "       [4,5,6]]]\n",
        "\n",
        "t2 = [[[7,8,9],\n",
        "      [10,11,12]]]\n",
        "\n",
        "print(tf.constant(t1).shape)\n",
        "print(tf.constant(t2).shape)\n",
        "\n",
        "tf.concat([t1, t2], axis=2)"
      ]
    },
    {
      "cell_type": "code",
      "execution_count": null,
      "metadata": {
        "colab": {
          "base_uri": "https://localhost:8080/"
        },
        "id": "PvVGZ13FqZQk",
        "outputId": "fff5ecf0-88c7-4c77-95b6-4ceb5d2667d7"
      },
      "outputs": [
        {
          "data": {
            "text/plain": [
              "<tf.Tensor: shape=(3, 1, 2, 3), dtype=int32, numpy=\n",
              "array([[[[ 1,  2,  3],\n",
              "         [ 4,  5,  6]]],\n",
              "\n",
              "\n",
              "       [[[ 7,  8,  9],\n",
              "         [10, 11, 12]]],\n",
              "\n",
              "\n",
              "       [[[ 1,  2,  3],\n",
              "         [ 4,  5,  6]]]], dtype=int32)>"
            ]
          },
          "execution_count": 19,
          "metadata": {},
          "output_type": "execute_result"
        }
      ],
      "source": [
        "tf.stack([t1,t2,t1], axis=0)"
      ]
    },
    {
      "cell_type": "code",
      "execution_count": null,
      "metadata": {
        "colab": {
          "base_uri": "https://localhost:8080/"
        },
        "id": "sZKYBculrN1C",
        "outputId": "c75ac97a-e64b-4426-ec4e-d55db68836a0"
      },
      "outputs": [
        {
          "data": {
            "text/plain": [
              "<tf.Tensor: shape=(2, 1, 2, 3), dtype=int32, numpy=\n",
              "array([[[[ 1,  2,  3],\n",
              "         [ 4,  5,  6]]],\n",
              "\n",
              "\n",
              "       [[[ 7,  8,  9],\n",
              "         [10, 11, 12]]]], dtype=int32)>"
            ]
          },
          "execution_count": 20,
          "metadata": {},
          "output_type": "execute_result"
        }
      ],
      "source": [
        "tf.concat([tf.expand_dims(t, axis=0) for t in [t1,t2]], axis=0)"
      ]
    },
    {
      "cell_type": "code",
      "execution_count": null,
      "metadata": {
        "colab": {
          "base_uri": "https://localhost:8080/"
        },
        "id": "Vpm34VHctquS",
        "outputId": "1c495ead-37fd-4e39-f7ad-41818122b433"
      },
      "outputs": [
        {
          "data": {
            "text/plain": [
              "<tf.Tensor: shape=(8, 7), dtype=int32, numpy=\n",
              "array([[0, 0, 0, 0, 0, 0, 0],\n",
              "       [0, 0, 1, 2, 3, 0, 0],\n",
              "       [0, 0, 4, 5, 6, 0, 0],\n",
              "       [0, 0, 0, 0, 0, 0, 0],\n",
              "       [0, 0, 0, 0, 0, 0, 0],\n",
              "       [0, 0, 0, 0, 0, 0, 0],\n",
              "       [0, 0, 0, 0, 0, 0, 0],\n",
              "       [0, 0, 0, 0, 0, 0, 0]], dtype=int32)>"
            ]
          },
          "execution_count": 21,
          "metadata": {},
          "output_type": "execute_result"
        }
      ],
      "source": [
        "t = tf.constant([[1,2,3],\n",
        "                [4,5,6]])\n",
        "paddings = tf.constant([[1,5],\n",
        "                        [2,2]])\n",
        "tf.pad(t, paddings, \"CONSTANT\", constant_values = 0)"
      ]
    },
    {
      "cell_type": "code",
      "execution_count": null,
      "metadata": {
        "colab": {
          "base_uri": "https://localhost:8080/"
        },
        "id": "Byu6Zd2quiDK",
        "outputId": "a7ecc4ba-e83e-4d0d-d8f0-08cf74e49299"
      },
      "outputs": [
        {
          "name": "stdout",
          "output_type": "stream",
          "text": [
            "(6,)\n"
          ]
        },
        {
          "data": {
            "text/plain": [
              "<tf.Tensor: shape=(3,), dtype=string, numpy=array([b'p1', b'p2', b'p3'], dtype=object)>"
            ]
          },
          "execution_count": 22,
          "metadata": {},
          "output_type": "execute_result"
        }
      ],
      "source": [
        "params = tf.constant(['p0','p1','p2','p3','p4','p5'])\n",
        "print(params.shape)\n",
        "params[1:3+1]"
      ]
    },
    {
      "cell_type": "code",
      "execution_count": null,
      "metadata": {
        "colab": {
          "base_uri": "https://localhost:8080/"
        },
        "id": "JYvz21VgvRoh",
        "outputId": "d368bf30-a55b-4b5f-9071-1863c1aecd3f"
      },
      "outputs": [
        {
          "data": {
            "text/plain": [
              "<tf.Tensor: shape=(3,), dtype=string, numpy=array([b'p0', b'p3', b'p5'], dtype=object)>"
            ]
          },
          "execution_count": 23,
          "metadata": {},
          "output_type": "execute_result"
        }
      ],
      "source": [
        "tf.gather(params, [0,3,5])"
      ]
    },
    {
      "cell_type": "code",
      "execution_count": null,
      "metadata": {
        "colab": {
          "base_uri": "https://localhost:8080/"
        },
        "id": "yYAECyu7vgyi",
        "outputId": "eeb02042-497a-497d-821d-b5de648c7064"
      },
      "outputs": [
        {
          "name": "stdout",
          "output_type": "stream",
          "text": [
            "(2, 4, 3)\n"
          ]
        },
        {
          "data": {
            "text/plain": [
              "<tf.Tensor: shape=(2, 4, 3), dtype=float32, numpy=\n",
              "array([[[ 0.,  1.,  2.],\n",
              "        [10., 11., 12.],\n",
              "        [20., 21., 22.],\n",
              "        [30., 31., 32.]],\n",
              "\n",
              "       [[ 0.,  1.,  2.],\n",
              "        [10., 11., 12.],\n",
              "        [20., 21., 22.],\n",
              "        [30., 31., 32.]]], dtype=float32)>"
            ]
          },
          "execution_count": 24,
          "metadata": {},
          "output_type": "execute_result"
        }
      ],
      "source": [
        "params = tf.constant([\n",
        "                      [[0.0, 1.0, 2.0],\n",
        "                      [10.0, 11.0, 12.0],\n",
        "                      [20.0, 21.0, 22.0],\n",
        "                      [30.0, 31.0, 32.0]],\n",
        "\n",
        "                      [[0.0, 1.0, 2.0],\n",
        "                      [10.0, 11.0, 12.0],\n",
        "                      [20.0, 21.0, 22.0],\n",
        "                      [30.0, 31.0, 32.0]]\n",
        "                      ])\n",
        "print(params.shape)\n",
        "tf.gather(params, [1, 0], axis=0)"
      ]
    },
    {
      "cell_type": "code",
      "execution_count": null,
      "metadata": {
        "colab": {
          "base_uri": "https://localhost:8080/"
        },
        "id": "Yh43wsxDv80Y",
        "outputId": "b82c49de-11bb-45d8-f60f-b1259c09ed2f"
      },
      "outputs": [
        {
          "data": {
            "text/plain": [
              "<tf.Tensor: shape=(2, 2), dtype=string, numpy=\n",
              "array([[b'a', b'b'],\n",
              "       [b'c', b'd']], dtype=object)>"
            ]
          },
          "execution_count": 25,
          "metadata": {},
          "output_type": "execute_result"
        }
      ],
      "source": [
        "indices = [[0],\n",
        "           [1]]\n",
        "\n",
        "params = [['a', 'b'],\n",
        "          ['c', 'd']]\n",
        "\n",
        "tf.gather_nd(params, indices)"
      ]
    },
    {
      "cell_type": "code",
      "execution_count": null,
      "metadata": {
        "colab": {
          "base_uri": "https://localhost:8080/"
        },
        "id": "H5r5-whkL-RV",
        "outputId": "d09d653f-c0b6-4c11-b116-e98fa600c45a"
      },
      "outputs": [
        {
          "data": {
            "text/plain": [
              "<tf.Tensor: shape=(), dtype=string, numpy=b'f'>"
            ]
          },
          "execution_count": 26,
          "metadata": {},
          "output_type": "execute_result"
        }
      ],
      "source": [
        "indices = [2,1]\n",
        "\n",
        "params = [['a', 'b'],\n",
        "          ['c', 'd'],\n",
        "          ['e', 'f']]\n",
        "\n",
        "tf.gather_nd(params, indices)"
      ]
    },
    {
      "cell_type": "code",
      "execution_count": null,
      "metadata": {
        "colab": {
          "base_uri": "https://localhost:8080/"
        },
        "id": "lZ-pjX2YMNTV",
        "outputId": "f3b9526c-a14b-45d3-bce9-b759963a8549"
      },
      "outputs": [
        {
          "data": {
            "text/plain": [
              "<tf.Tensor: shape=(2, 2), dtype=string, numpy=\n",
              "array([[b'c0', b'd0'],\n",
              "       [b'a1', b'b1']], dtype=object)>"
            ]
          },
          "execution_count": 27,
          "metadata": {},
          "output_type": "execute_result"
        }
      ],
      "source": [
        "indices = [[0,1],\n",
        "           [1,0]]\n",
        "\n",
        "params = [[['a0', 'b0'],\n",
        "          ['c0', 'd0']],\n",
        "\n",
        "          [['a1', 'b1'],\n",
        "          ['c1', 'd1']]]\n",
        "\n",
        "tf.gather_nd(params, indices)"
      ]
    },
    {
      "cell_type": "code",
      "execution_count": null,
      "metadata": {
        "colab": {
          "base_uri": "https://localhost:8080/"
        },
        "id": "sizmi6BtMuZc",
        "outputId": "eefe086f-dd8b-4352-a73d-f4184e8d3f3f"
      },
      "outputs": [
        {
          "data": {
            "text/plain": [
              "<tf.Tensor: shape=(2, 2, 2), dtype=string, numpy=\n",
              "array([[[b'c0', b'd0'],\n",
              "        [b'a1', b'b1']],\n",
              "\n",
              "       [[b'a0', b'b0'],\n",
              "        [b'c1', b'd1']]], dtype=object)>"
            ]
          },
          "execution_count": 28,
          "metadata": {},
          "output_type": "execute_result"
        }
      ],
      "source": [
        "indices = [[[0,1],\n",
        "           [1,0]],\n",
        "\n",
        "           [[0,0],\n",
        "           [1,1]]]\n",
        "\n",
        "params = [[['a0', 'b0'],\n",
        "          ['c0', 'd0']],\n",
        "\n",
        "          [['a1', 'b1'],\n",
        "          ['c1', 'd1']]]\n",
        "\n",
        "tf.gather_nd(params, indices, batch_dims = 0)"
      ]
    },
    {
      "cell_type": "code",
      "execution_count": null,
      "metadata": {
        "colab": {
          "base_uri": "https://localhost:8080/"
        },
        "id": "4GCg_J2PNM3V",
        "outputId": "7ecdb4be-176a-48ca-b90d-68199a0847c4"
      },
      "outputs": [
        {
          "name": "stdout",
          "output_type": "stream",
          "text": [
            "(4, 3)\n"
          ]
        }
      ],
      "source": [
        "tensor_two_d = tf.constant([\n",
        "    [1,2,3],\n",
        "    [4,5,6],\n",
        "    [7,8,9],\n",
        "    [-1,-2,-3]\n",
        "])\n",
        "print(tensor_two_d.shape)"
      ]
    },
    {
      "cell_type": "code",
      "execution_count": null,
      "metadata": {
        "colab": {
          "base_uri": "https://localhost:8080/"
        },
        "id": "PoE8653FRIIK",
        "outputId": "8d7e9f41-7301-4e3f-9908-0b093489d08b"
      },
      "outputs": [
        {
          "name": "stdout",
          "output_type": "stream",
          "text": [
            "<tf.RaggedTensor [[1, 2, 3], [4], [7, 8, 9, 12, 16], [-1, -3]]>\n"
          ]
        }
      ],
      "source": [
        "tensor_two_d = [\n",
        "    [1,2,3],\n",
        "    [4,],\n",
        "    [7,8,9,12,16],\n",
        "    [-1,-3]\n",
        "]\n",
        "\n",
        "tensor_ragged = tf.ragged.constant(tensor_two_d)\n",
        "print(tensor_ragged)"
      ]
    },
    {
      "cell_type": "code",
      "execution_count": null,
      "metadata": {
        "colab": {
          "base_uri": "https://localhost:8080/"
        },
        "id": "MN-AMXqxRdgJ",
        "outputId": "3c1fce47-5703-4a15-d949-a93710e07cd9"
      },
      "outputs": [
        {
          "name": "stdout",
          "output_type": "stream",
          "text": [
            "<tf.RaggedTensor [[3, 1, 4, 1], [], [5, 9, 2], [6], []]>\n"
          ]
        }
      ],
      "source": [
        "print(tf.RaggedTensor.from_row_lengths(\n",
        "    values=[3,1,4,1,5,9,2,6],\n",
        "    row_lengths=[4,0,3,1,0]\n",
        "))"
      ]
    },
    {
      "cell_type": "code",
      "execution_count": null,
      "metadata": {
        "id": "rw6YELF8Sp1D"
      },
      "outputs": [],
      "source": [
        "tensor_sparse = tf.sparse.SparseTensor(\n",
        "    indices = [[1,1],[3,4]], values=[11,56], dense_shape=[5,6]\n",
        ")"
      ]
    },
    {
      "cell_type": "code",
      "execution_count": null,
      "metadata": {
        "colab": {
          "base_uri": "https://localhost:8080/"
        },
        "id": "FEcACL7TJ4Rk",
        "outputId": "b17641ce-1440-4fd1-e4b8-c5144a24e227"
      },
      "outputs": [
        {
          "name": "stdout",
          "output_type": "stream",
          "text": [
            "SparseTensor(indices=tf.Tensor(\n",
            "[[1 1]\n",
            " [3 4]], shape=(2, 2), dtype=int64), values=tf.Tensor([11 56], shape=(2,), dtype=int32), dense_shape=tf.Tensor([5 6], shape=(2,), dtype=int64))\n"
          ]
        }
      ],
      "source": [
        "print(tensor_sparse)"
      ]
    },
    {
      "cell_type": "code",
      "execution_count": null,
      "metadata": {
        "colab": {
          "base_uri": "https://localhost:8080/"
        },
        "id": "ZXX_FDGmJ_uv",
        "outputId": "3ec857d8-4ed3-4573-936f-eac793a5ae0d"
      },
      "outputs": [
        {
          "data": {
            "text/plain": [
              "<tf.Tensor: shape=(5, 6), dtype=int32, numpy=\n",
              "array([[ 0,  0,  0,  0,  0,  0],\n",
              "       [ 0, 11,  0,  0,  0,  0],\n",
              "       [ 0,  0,  0,  0,  0,  0],\n",
              "       [ 0,  0,  0,  0, 56,  0],\n",
              "       [ 0,  0,  0,  0,  0,  0]], dtype=int32)>"
            ]
          },
          "execution_count": 34,
          "metadata": {},
          "output_type": "execute_result"
        }
      ],
      "source": [
        "tf.sparse.to_dense(tensor_sparse)"
      ]
    },
    {
      "cell_type": "code",
      "execution_count": null,
      "metadata": {
        "colab": {
          "base_uri": "https://localhost:8080/"
        },
        "id": "WgXXBm8jKJov",
        "outputId": "9d18f074-667f-4301-a7f2-238fcb0bc7a9"
      },
      "outputs": [
        {
          "name": "stdout",
          "output_type": "stream",
          "text": [
            "tf.Tensor([b'hello' b'i am' b'a string'], shape=(3,), dtype=string)\n"
          ]
        }
      ],
      "source": [
        "tensor_string = tf.constant([\"hello\", \"i am\", \"a string\"])\n",
        "print(tensor_string)"
      ]
    },
    {
      "cell_type": "code",
      "execution_count": null,
      "metadata": {
        "colab": {
          "base_uri": "https://localhost:8080/"
        },
        "id": "V-8r9tv3KeY3",
        "outputId": "08313916-219a-4819-a27c-41523c9667f9"
      },
      "outputs": [
        {
          "data": {
            "text/plain": [
              "<tf.Tensor: shape=(), dtype=string, numpy=b'hello+i am+a string'>"
            ]
          },
          "execution_count": 36,
          "metadata": {},
          "output_type": "execute_result"
        }
      ],
      "source": [
        "tf.strings.join(tensor_string, separator=\"+\")"
      ]
    },
    {
      "cell_type": "code",
      "execution_count": null,
      "metadata": {
        "id": "Co6CyBKEKxCv"
      },
      "outputs": [],
      "source": [
        "x = tf.constant([1,2])"
      ]
    },
    {
      "cell_type": "code",
      "execution_count": null,
      "metadata": {
        "colab": {
          "base_uri": "https://localhost:8080/"
        },
        "id": "4T2VdC2TMVWd",
        "outputId": "76ad8298-4059-4eca-8923-fc2484ec08c1"
      },
      "outputs": [
        {
          "name": "stdout",
          "output_type": "stream",
          "text": [
            "<tf.Variable 'var1:0' shape=(2,) dtype=int32, numpy=array([1, 2], dtype=int32)>\n"
          ]
        }
      ],
      "source": [
        "x_var = tf.Variable(x, name='var1')\n",
        "print(x_var)"
      ]
    },
    {
      "cell_type": "code",
      "execution_count": null,
      "metadata": {
        "colab": {
          "base_uri": "https://localhost:8080/"
        },
        "id": "MgfhXLGtMhfu",
        "outputId": "c7ccb5be-3c4a-48b7-eeb4-8e6f30fdcd11"
      },
      "outputs": [
        {
          "data": {
            "text/plain": [
              "<tf.Variable 'UnreadVariable' shape=(2,) dtype=int32, numpy=array([4, 8], dtype=int32)>"
            ]
          },
          "execution_count": 39,
          "metadata": {},
          "output_type": "execute_result"
        }
      ],
      "source": [
        "x_var.assign_add([3,6])"
      ]
    },
    {
      "cell_type": "code",
      "execution_count": null,
      "metadata": {
        "colab": {
          "base_uri": "https://localhost:8080/"
        },
        "id": "CwXH2CVmM0n1",
        "outputId": "56e1e36d-e42b-441d-fdf2-4b7ff64e2778"
      },
      "outputs": [
        {
          "name": "stdout",
          "output_type": "stream",
          "text": [
            "tf.Tensor([1 3 4], shape=(3,), dtype=int32) /job:localhost/replica:0/task:0/device:CPU:0\n",
            "tf.Tensor([1], shape=(1,), dtype=int32) /job:localhost/replica:0/task:0/device:CPU:0\n",
            "tf.Tensor([2 4 5], shape=(3,), dtype=int32) /job:localhost/replica:0/task:0/device:GPU:0\n"
          ]
        }
      ],
      "source": [
        "with tf.device('CPU:0'):\n",
        "  x_1 = tf.constant([1,3,4])\n",
        "  x_2 = tf.constant([1])\n",
        "\n",
        "with tf.device('GPU:0'):\n",
        "  x_3 = x_1 + x_2\n",
        "\n",
        "\n",
        "print(x_1, x_1.device)\n",
        "print(x_2, x_2.device)\n",
        "print(x_3, x_3.device)"
      ]
    },
    {
      "cell_type": "code",
      "execution_count": null,
      "metadata": {
        "id": "BJhN74gZN9Bd"
      },
      "outputs": [],
      "source": []
    },
    {
      "cell_type": "code",
      "execution_count": null,
      "metadata": {
        "id": "Y9R2-MjIOdLI"
      },
      "outputs": [],
      "source": []
    }
  ],
  "metadata": {
    "colab": {
      "provenance": []
    },
    "kernelspec": {
      "display_name": "Python 3",
      "name": "python3"
    },
    "language_info": {
      "name": "python"
    }
  },
  "nbformat": 4,
  "nbformat_minor": 0
}
