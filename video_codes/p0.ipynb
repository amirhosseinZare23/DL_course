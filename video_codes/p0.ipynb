{
  "nbformat": 4,
  "nbformat_minor": 0,
  "metadata": {
    "colab": {
      "provenance": []
    },
    "kernelspec": {
      "name": "python3",
      "display_name": "Python 3"
    },
    "language_info": {
      "name": "python"
    }
  },
  "cells": [
    {
      "cell_type": "markdown",
      "source": [
        "# AmirhosseinZare\n",
        "## DL-SM\n",
        "## video: 00:00 untill 02:30"
      ],
      "metadata": {
        "id": "rUxrdNM-HXyn"
      }
    },
    {
      "cell_type": "code",
      "execution_count": 2,
      "metadata": {
        "id": "N9NMWmV-_NBm"
      },
      "outputs": [],
      "source": [
        "import tensorflow as tf"
      ]
    },
    {
      "cell_type": "code",
      "source": [
        "tensor_zero_0 = tf.constant(4)\n",
        "print(tensor_zero_0)"
      ],
      "metadata": {
        "colab": {
          "base_uri": "https://localhost:8080/"
        },
        "id": "KjsktR3rBC31",
        "outputId": "b30f0a25-73b0-4d23-92ec-71d503f5bf32"
      },
      "execution_count": 3,
      "outputs": [
        {
          "output_type": "stream",
          "name": "stdout",
          "text": [
            "tf.Tensor(4, shape=(), dtype=int32)\n"
          ]
        }
      ]
    },
    {
      "cell_type": "code",
      "source": [
        "tensor_one_d = tf.constant([2, 3, -1, 6, -5])\n",
        "\n",
        "print(tensor_one_d)"
      ],
      "metadata": {
        "colab": {
          "base_uri": "https://localhost:8080/"
        },
        "id": "t-EhwkT5OCRQ",
        "outputId": "59ef2525-015e-410c-de67-1eeabfc35d68"
      },
      "execution_count": 4,
      "outputs": [
        {
          "output_type": "stream",
          "name": "stdout",
          "text": [
            "tf.Tensor([ 2  3 -1  6 -5], shape=(5,), dtype=int32)\n"
          ]
        }
      ]
    },
    {
      "cell_type": "code",
      "source": [
        "tensor_one_d = tf.constant([2, 3., -1, 6, -5], dtype=tf.float32)\n",
        "\n",
        "casted_tensor_one_d = tf.cast(tensor_one_d, dtype=tf.int16)\n",
        "print(tensor_one_d)\n",
        "print(casted_tensor_one_d)"
      ],
      "metadata": {
        "colab": {
          "base_uri": "https://localhost:8080/"
        },
        "id": "khNuYJ9KBNJb",
        "outputId": "4686a139-3949-428b-8916-b1030a15ea5e"
      },
      "execution_count": 5,
      "outputs": [
        {
          "output_type": "stream",
          "name": "stdout",
          "text": [
            "tf.Tensor([ 2.  3. -1.  6. -5.], shape=(5,), dtype=float32)\n",
            "tf.Tensor([ 2  3 -1  6 -5], shape=(5,), dtype=int16)\n"
          ]
        }
      ]
    },
    {
      "cell_type": "code",
      "source": [
        "tensor_bool = tf.constant([True, True, False])\n",
        "print(tensor_bool)"
      ],
      "metadata": {
        "colab": {
          "base_uri": "https://localhost:8080/"
        },
        "id": "MKiwwzbNOJ1G",
        "outputId": "200b5121-d6a4-47b8-cbc9-3e9fbfd3f4a4"
      },
      "execution_count": 6,
      "outputs": [
        {
          "output_type": "stream",
          "name": "stdout",
          "text": [
            "tf.Tensor([ True  True False], shape=(3,), dtype=bool)\n"
          ]
        }
      ]
    },
    {
      "cell_type": "code",
      "source": [
        "tensor_string = tf.constant([\"hello world\", \" hi\"])\n",
        "print(tensor_string)"
      ],
      "metadata": {
        "colab": {
          "base_uri": "https://localhost:8080/"
        },
        "id": "gqV-n-EeOWs_",
        "outputId": "478661a2-b54e-4a45-a7d1-2852cca6f1df"
      },
      "execution_count": 7,
      "outputs": [
        {
          "output_type": "stream",
          "name": "stdout",
          "text": [
            "tf.Tensor([b'hello world' b' hi'], shape=(2,), dtype=string)\n"
          ]
        }
      ]
    },
    {
      "cell_type": "code",
      "source": [
        "tensor_two_d = tf.constant([\n",
        "    [1,2,3],\n",
        "    [4,5,6],\n",
        "    [7,8,9],\n",
        "    [-1,-2,-3]\n",
        "])\n",
        "print(tensor_two_d)"
      ],
      "metadata": {
        "colab": {
          "base_uri": "https://localhost:8080/"
        },
        "id": "Kec2FESSBalS",
        "outputId": "06f98256-cfc1-43b4-8101-d9c82e5ee6f3"
      },
      "execution_count": 8,
      "outputs": [
        {
          "output_type": "stream",
          "name": "stdout",
          "text": [
            "tf.Tensor(\n",
            "[[ 1  2  3]\n",
            " [ 4  5  6]\n",
            " [ 7  8  9]\n",
            " [-1 -2 -3]], shape=(4, 3), dtype=int32)\n"
          ]
        }
      ]
    },
    {
      "cell_type": "code",
      "source": [
        "tensor_three_d = tf.constant([\n",
        "    [[1,2,3],\n",
        "    [4,5,6]],\n",
        "\n",
        "    [[7,8,9],\n",
        "    [-1,-2,-3]],\n",
        "\n",
        "    [[2,5,9],\n",
        "    [-2,6,-3]],\n",
        "])\n",
        "print(tensor_three_d)"
      ],
      "metadata": {
        "colab": {
          "base_uri": "https://localhost:8080/"
        },
        "id": "0JVOjOGDBqeK",
        "outputId": "2a54c0cc-ffe8-4cdd-b015-d943c81838c5"
      },
      "execution_count": 9,
      "outputs": [
        {
          "output_type": "stream",
          "name": "stdout",
          "text": [
            "tf.Tensor(\n",
            "[[[ 1  2  3]\n",
            "  [ 4  5  6]]\n",
            "\n",
            " [[ 7  8  9]\n",
            "  [-1 -2 -3]]\n",
            "\n",
            " [[ 2  5  9]\n",
            "  [-2  6 -3]]], shape=(3, 2, 3), dtype=int32)\n"
          ]
        }
      ]
    },
    {
      "cell_type": "code",
      "source": [
        "print(tensor_three_d.shape)"
      ],
      "metadata": {
        "colab": {
          "base_uri": "https://localhost:8080/"
        },
        "id": "YZ4sGvUOCU_6",
        "outputId": "f0e918b2-126a-4eb0-8e2e-fb2fa6ac07a6"
      },
      "execution_count": 10,
      "outputs": [
        {
          "output_type": "stream",
          "name": "stdout",
          "text": [
            "(3, 2, 3)\n"
          ]
        }
      ]
    },
    {
      "cell_type": "code",
      "source": [
        "print(tf.shape(tensor_three_d))"
      ],
      "metadata": {
        "colab": {
          "base_uri": "https://localhost:8080/"
        },
        "id": "JlyTaYzkSD8W",
        "outputId": "06451347-4bf5-4aaf-f79e-cffe95669691"
      },
      "execution_count": 11,
      "outputs": [
        {
          "output_type": "stream",
          "name": "stdout",
          "text": [
            "tf.Tensor([3 2 3], shape=(3,), dtype=int32)\n"
          ]
        }
      ]
    },
    {
      "cell_type": "code",
      "source": [
        "print(tensor_three_d.ndim)"
      ],
      "metadata": {
        "colab": {
          "base_uri": "https://localhost:8080/"
        },
        "id": "erXXIfumCvOh",
        "outputId": "ae98540e-f956-4c6e-f2f0-38706350e301"
      },
      "execution_count": 12,
      "outputs": [
        {
          "output_type": "stream",
          "name": "stdout",
          "text": [
            "3\n"
          ]
        }
      ]
    },
    {
      "cell_type": "code",
      "source": [
        "tensor_four_d = tf.constant([\n",
        "    [[[1,2,3],\n",
        "    [4,5,6]],\n",
        "\n",
        "    [[7,8,9],\n",
        "    [-1,-2,-3]],\n",
        "\n",
        "    [[2,5,9],\n",
        "    [-2,6,-3]]],\n",
        "\n",
        "\n",
        "    [[[10,20,30],\n",
        "    [40,50,60]],\n",
        "\n",
        "    [[70,80,90],\n",
        "    [-10,-20,-30]],\n",
        "\n",
        "    [[20,50,90],\n",
        "    [-20,60,-30]]]\n",
        "])\n",
        "print(tensor_four_d)"
      ],
      "metadata": {
        "colab": {
          "base_uri": "https://localhost:8080/"
        },
        "id": "Tk2iPD6JC22I",
        "outputId": "07cd651f-c51a-4205-bb39-365fcb990a84"
      },
      "execution_count": 13,
      "outputs": [
        {
          "output_type": "stream",
          "name": "stdout",
          "text": [
            "tf.Tensor(\n",
            "[[[[  1   2   3]\n",
            "   [  4   5   6]]\n",
            "\n",
            "  [[  7   8   9]\n",
            "   [ -1  -2  -3]]\n",
            "\n",
            "  [[  2   5   9]\n",
            "   [ -2   6  -3]]]\n",
            "\n",
            "\n",
            " [[[ 10  20  30]\n",
            "   [ 40  50  60]]\n",
            "\n",
            "  [[ 70  80  90]\n",
            "   [-10 -20 -30]]\n",
            "\n",
            "  [[ 20  50  90]\n",
            "   [-20  60 -30]]]], shape=(2, 3, 2, 3), dtype=int32)\n"
          ]
        }
      ]
    },
    {
      "cell_type": "code",
      "source": [
        "import numpy as np"
      ],
      "metadata": {
        "id": "ssw0RgXcDpHx"
      },
      "execution_count": 14,
      "outputs": []
    },
    {
      "cell_type": "code",
      "source": [
        "np_array = np.array([1,2,4])\n",
        "print(np_array)"
      ],
      "metadata": {
        "colab": {
          "base_uri": "https://localhost:8080/"
        },
        "id": "BAnig1v_OwJ9",
        "outputId": "be9cb65c-91f0-4dbb-e65b-6d4c5769ddae"
      },
      "execution_count": 15,
      "outputs": [
        {
          "output_type": "stream",
          "name": "stdout",
          "text": [
            "[1 2 4]\n"
          ]
        }
      ]
    },
    {
      "cell_type": "code",
      "source": [
        "converted_tensor = tf.convert_to_tensor(np_array)\n",
        "print(converted_tensor)"
      ],
      "metadata": {
        "colab": {
          "base_uri": "https://localhost:8080/"
        },
        "id": "FdK3Z095O4e9",
        "outputId": "471ec1ec-8018-4b6a-93f1-3721bc0ad61c"
      },
      "execution_count": 16,
      "outputs": [
        {
          "output_type": "stream",
          "name": "stdout",
          "text": [
            "tf.Tensor([1 2 4], shape=(3,), dtype=int64)\n"
          ]
        }
      ]
    },
    {
      "cell_type": "code",
      "source": [
        "eye_tensor = tf.eye(\n",
        "    num_rows=5,\n",
        "    num_columns=None,\n",
        "    batch_shape=[2, ],\n",
        "    dtype=tf.dtypes.float32,\n",
        "    name=None\n",
        "\n",
        ")\n",
        "print(eye_tensor)"
      ],
      "metadata": {
        "colab": {
          "base_uri": "https://localhost:8080/"
        },
        "id": "4961-ePWPOgV",
        "outputId": "59cefc71-dd55-483c-cac7-03484c3d6abb"
      },
      "execution_count": 17,
      "outputs": [
        {
          "output_type": "stream",
          "name": "stdout",
          "text": [
            "tf.Tensor(\n",
            "[[[1. 0. 0. 0. 0.]\n",
            "  [0. 1. 0. 0. 0.]\n",
            "  [0. 0. 1. 0. 0.]\n",
            "  [0. 0. 0. 1. 0.]\n",
            "  [0. 0. 0. 0. 1.]]\n",
            "\n",
            " [[1. 0. 0. 0. 0.]\n",
            "  [0. 1. 0. 0. 0.]\n",
            "  [0. 0. 1. 0. 0.]\n",
            "  [0. 0. 0. 1. 0.]\n",
            "  [0. 0. 0. 0. 1.]]], shape=(2, 5, 5), dtype=float32)\n"
          ]
        }
      ]
    },
    {
      "cell_type": "code",
      "source": [
        "filled_tensor = tf.fill([1,3,4], 5)\n",
        "print(filled_tensor)"
      ],
      "metadata": {
        "colab": {
          "base_uri": "https://localhost:8080/"
        },
        "id": "PjJ9V6DLPsdV",
        "outputId": "3f4a4d26-931c-43db-9c67-4c67daa1c4e3"
      },
      "execution_count": 18,
      "outputs": [
        {
          "output_type": "stream",
          "name": "stdout",
          "text": [
            "tf.Tensor(\n",
            "[[[5 5 5 5]\n",
            "  [5 5 5 5]\n",
            "  [5 5 5 5]]], shape=(1, 3, 4), dtype=int32)\n"
          ]
        }
      ]
    },
    {
      "cell_type": "code",
      "source": [
        "ones_tensor = tf.ones([5,3,2], dtype=tf.dtypes.float32,name=None)\n",
        "\n",
        "print(ones_tensor)"
      ],
      "metadata": {
        "colab": {
          "base_uri": "https://localhost:8080/"
        },
        "id": "YZCOqJgeQdGm",
        "outputId": "882f1e40-e890-425e-d2db-c336b7ef8ff0"
      },
      "execution_count": 19,
      "outputs": [
        {
          "output_type": "stream",
          "name": "stdout",
          "text": [
            "tf.Tensor(\n",
            "[[[1. 1.]\n",
            "  [1. 1.]\n",
            "  [1. 1.]]\n",
            "\n",
            " [[1. 1.]\n",
            "  [1. 1.]\n",
            "  [1. 1.]]\n",
            "\n",
            " [[1. 1.]\n",
            "  [1. 1.]\n",
            "  [1. 1.]]\n",
            "\n",
            " [[1. 1.]\n",
            "  [1. 1.]\n",
            "  [1. 1.]]\n",
            "\n",
            " [[1. 1.]\n",
            "  [1. 1.]\n",
            "  [1. 1.]]], shape=(5, 3, 2), dtype=float32)\n"
          ]
        }
      ]
    },
    {
      "cell_type": "code",
      "source": [
        "ones_like_tensor = tf.ones_like(filled_tensor)\n",
        "print(ones_like_tensor)"
      ],
      "metadata": {
        "colab": {
          "base_uri": "https://localhost:8080/"
        },
        "id": "PNxIgJ8FQ3MF",
        "outputId": "873bf24b-abfd-4589-d9b6-bc33d808a827"
      },
      "execution_count": 20,
      "outputs": [
        {
          "output_type": "stream",
          "name": "stdout",
          "text": [
            "tf.Tensor(\n",
            "[[[1 1 1 1]\n",
            "  [1 1 1 1]\n",
            "  [1 1 1 1]]], shape=(1, 3, 4), dtype=int32)\n"
          ]
        }
      ]
    },
    {
      "cell_type": "code",
      "source": [
        "zeros_tensor = tf.zeros([5,3,2], dtype=tf.dtypes.float32,name=None)\n",
        "\n",
        "print(zeros_tensor)"
      ],
      "metadata": {
        "colab": {
          "base_uri": "https://localhost:8080/"
        },
        "id": "1cF1fkvcRjAN",
        "outputId": "f782cdc0-0d39-4315-d6cb-39f7a81e13e8"
      },
      "execution_count": 21,
      "outputs": [
        {
          "output_type": "stream",
          "name": "stdout",
          "text": [
            "tf.Tensor(\n",
            "[[[0. 0.]\n",
            "  [0. 0.]\n",
            "  [0. 0.]]\n",
            "\n",
            " [[0. 0.]\n",
            "  [0. 0.]\n",
            "  [0. 0.]]\n",
            "\n",
            " [[0. 0.]\n",
            "  [0. 0.]\n",
            "  [0. 0.]]\n",
            "\n",
            " [[0. 0.]\n",
            "  [0. 0.]\n",
            "  [0. 0.]]\n",
            "\n",
            " [[0. 0.]\n",
            "  [0. 0.]\n",
            "  [0. 0.]]], shape=(5, 3, 2), dtype=float32)\n"
          ]
        }
      ]
    },
    {
      "cell_type": "code",
      "source": [
        "t = tf.constant([[1, 1, 1],[2, 2, 2]])\n",
        "tf.rank(t)"
      ],
      "metadata": {
        "colab": {
          "base_uri": "https://localhost:8080/"
        },
        "id": "C1M_TSbMR2V9",
        "outputId": "45d92e6e-4a2d-42c5-f01b-f7afbb406e37"
      },
      "execution_count": 22,
      "outputs": [
        {
          "output_type": "execute_result",
          "data": {
            "text/plain": [
              "<tf.Tensor: shape=(), dtype=int32, numpy=2>"
            ]
          },
          "metadata": {},
          "execution_count": 22
        }
      ]
    },
    {
      "cell_type": "code",
      "source": [
        "tf.size(t, out_type=tf.float32)"
      ],
      "metadata": {
        "colab": {
          "base_uri": "https://localhost:8080/"
        },
        "id": "bB8aaoo-Si7P",
        "outputId": "640e9f4c-31b1-455e-a4f7-d09ac231ad0c"
      },
      "execution_count": 23,
      "outputs": [
        {
          "output_type": "execute_result",
          "data": {
            "text/plain": [
              "<tf.Tensor: shape=(), dtype=float32, numpy=6.0>"
            ]
          },
          "metadata": {},
          "execution_count": 23
        }
      ]
    },
    {
      "cell_type": "code",
      "source": [
        "random_tensor = tf.random.normal(\n",
        "    [3,2],\n",
        "    mean=100.0,\n",
        "    stddev=1.0,\n",
        "    dtype=tf.dtypes.float32,\n",
        "    seed=None,\n",
        "    name=None\n",
        ")\n",
        "print(random_tensor)"
      ],
      "metadata": {
        "colab": {
          "base_uri": "https://localhost:8080/"
        },
        "id": "sod3nhMbS2XW",
        "outputId": "1da936a7-b024-4b1b-e949-9da7f90a925f"
      },
      "execution_count": 24,
      "outputs": [
        {
          "output_type": "stream",
          "name": "stdout",
          "text": [
            "tf.Tensor(\n",
            "[[100.4734   99.74923]\n",
            " [100.7734  101.41871]\n",
            " [101.96239 100.40356]], shape=(3, 2), dtype=float32)\n"
          ]
        }
      ]
    },
    {
      "cell_type": "code",
      "source": [
        "uniform_tensor = tf.random.uniform(\n",
        "    [5,],\n",
        "    minval=0,\n",
        "    maxval=10,\n",
        "    dtype=tf.dtypes.int32,\n",
        "    seed=None,\n",
        "    name=None\n",
        ")\n",
        "print(uniform_tensor)"
      ],
      "metadata": {
        "colab": {
          "base_uri": "https://localhost:8080/"
        },
        "id": "8wkSr_02Vlpu",
        "outputId": "50c30eeb-ee8e-428d-f58d-2c444489e6c2"
      },
      "execution_count": 25,
      "outputs": [
        {
          "output_type": "stream",
          "name": "stdout",
          "text": [
            "tf.Tensor([3 8 6 8 0], shape=(5,), dtype=int32)\n"
          ]
        }
      ]
    },
    {
      "cell_type": "code",
      "source": [
        "tf.random.set_seed(5)\n",
        "print(tf.random.uniform(shape=[3,], maxval=5, dtype=tf.int32, seed=10))\n",
        "print(tf.random.uniform(shape=[3,], maxval=5, dtype=tf.int32, seed=10))\n",
        "print(tf.random.uniform(shape=[3,], maxval=5, dtype=tf.int32, seed=10))\n",
        "print(tf.random.uniform(shape=[3,], maxval=5, dtype=tf.int32, seed=10))"
      ],
      "metadata": {
        "colab": {
          "base_uri": "https://localhost:8080/"
        },
        "id": "cdKIrBHinTxF",
        "outputId": "e5b6e6e1-50a7-4ab9-dd81-401557b5114c"
      },
      "execution_count": 26,
      "outputs": [
        {
          "output_type": "stream",
          "name": "stdout",
          "text": [
            "tf.Tensor([4 3 1], shape=(3,), dtype=int32)\n",
            "tf.Tensor([4 3 2], shape=(3,), dtype=int32)\n",
            "tf.Tensor([1 1 1], shape=(3,), dtype=int32)\n",
            "tf.Tensor([1 3 3], shape=(3,), dtype=int32)\n"
          ]
        }
      ]
    },
    {
      "cell_type": "code",
      "source": [
        "print(tf.random.uniform(shape=[3,], maxval=5, dtype=tf.int32, seed=10))\n",
        "print(tf.random.uniform(shape=[3,], maxval=5, dtype=tf.int32, seed=10))\n",
        "print(tf.random.uniform(shape=[3,], maxval=5, dtype=tf.int32, seed=10))\n",
        "print(tf.random.uniform(shape=[3,], maxval=5, dtype=tf.int32, seed=10))"
      ],
      "metadata": {
        "colab": {
          "base_uri": "https://localhost:8080/"
        },
        "id": "IlBCK_QXlqRy",
        "outputId": "395311f1-6b54-46fd-8175-55ebbf7500ad"
      },
      "execution_count": 27,
      "outputs": [
        {
          "output_type": "stream",
          "name": "stdout",
          "text": [
            "tf.Tensor([4 2 2], shape=(3,), dtype=int32)\n",
            "tf.Tensor([4 2 1], shape=(3,), dtype=int32)\n",
            "tf.Tensor([4 1 0], shape=(3,), dtype=int32)\n",
            "tf.Tensor([1 2 1], shape=(3,), dtype=int32)\n"
          ]
        }
      ]
    },
    {
      "cell_type": "code",
      "source": [
        "tensor_indexed = tf.constant([3, 6, 2, 9, 7, 5])\n",
        "\n",
        "print(tensor_indexed)\n",
        "print(tensor_indexed[0:4])\n",
        "print(tensor_indexed[1:6:2])"
      ],
      "metadata": {
        "id": "At1iQXTknxbi",
        "colab": {
          "base_uri": "https://localhost:8080/"
        },
        "outputId": "0f8772b4-06de-4f74-80d1-fee04bd55865"
      },
      "execution_count": 28,
      "outputs": [
        {
          "output_type": "stream",
          "name": "stdout",
          "text": [
            "tf.Tensor([3 6 2 9 7 5], shape=(6,), dtype=int32)\n",
            "tf.Tensor([3 6 2 9], shape=(4,), dtype=int32)\n",
            "tf.Tensor([6 9 5], shape=(3,), dtype=int32)\n"
          ]
        }
      ]
    },
    {
      "cell_type": "code",
      "source": [
        "print(tensor_indexed[:4])"
      ],
      "metadata": {
        "colab": {
          "base_uri": "https://localhost:8080/"
        },
        "id": "yt8EdJrcAp28",
        "outputId": "bbbc0ff4-e0da-4c7b-d115-ae3352d6e717"
      },
      "execution_count": 29,
      "outputs": [
        {
          "output_type": "stream",
          "name": "stdout",
          "text": [
            "tf.Tensor([3 6 2 9], shape=(4,), dtype=int32)\n"
          ]
        }
      ]
    },
    {
      "cell_type": "code",
      "source": [
        "print(tensor_indexed[3:])"
      ],
      "metadata": {
        "colab": {
          "base_uri": "https://localhost:8080/"
        },
        "id": "N2M_vxn5Nid_",
        "outputId": "08a46397-3c3e-4f5a-bd92-8d634fd26bc6"
      },
      "execution_count": 30,
      "outputs": [
        {
          "output_type": "stream",
          "name": "stdout",
          "text": [
            "tf.Tensor([9 7 5], shape=(3,), dtype=int32)\n"
          ]
        }
      ]
    },
    {
      "cell_type": "code",
      "source": [
        "tensor_two_d = tf.constant([\n",
        "    [1,2,3],\n",
        "    [4,5,6],\n",
        "    [7,8,9],\n",
        "    [-1,-2,-3]\n",
        "])\n",
        "print(tensor_two_d)"
      ],
      "metadata": {
        "colab": {
          "base_uri": "https://localhost:8080/"
        },
        "id": "9pFiK1BGNl_m",
        "outputId": "f6097019-08e7-414d-e903-ff57f8cad369"
      },
      "execution_count": 31,
      "outputs": [
        {
          "output_type": "stream",
          "name": "stdout",
          "text": [
            "tf.Tensor(\n",
            "[[ 1  2  3]\n",
            " [ 4  5  6]\n",
            " [ 7  8  9]\n",
            " [-1 -2 -3]], shape=(4, 3), dtype=int32)\n"
          ]
        }
      ]
    },
    {
      "cell_type": "code",
      "source": [
        "print(tensor_two_d[0:3,:])"
      ],
      "metadata": {
        "colab": {
          "base_uri": "https://localhost:8080/"
        },
        "id": "TeuUS6mhN7BX",
        "outputId": "0c4168e9-b6fb-4243-f027-1cfcbb7ace46"
      },
      "execution_count": 32,
      "outputs": [
        {
          "output_type": "stream",
          "name": "stdout",
          "text": [
            "tf.Tensor(\n",
            "[[1 2 3]\n",
            " [4 5 6]\n",
            " [7 8 9]], shape=(3, 3), dtype=int32)\n"
          ]
        }
      ]
    },
    {
      "cell_type": "code",
      "source": [
        "print(tensor_two_d[...,2])"
      ],
      "metadata": {
        "colab": {
          "base_uri": "https://localhost:8080/"
        },
        "id": "ZBm9jQlxVDJk",
        "outputId": "7217b5a5-31f6-4174-89a9-4a2427477581"
      },
      "execution_count": 33,
      "outputs": [
        {
          "output_type": "stream",
          "name": "stdout",
          "text": [
            "tf.Tensor([ 3  6  9 -3], shape=(4,), dtype=int32)\n"
          ]
        }
      ]
    },
    {
      "cell_type": "code",
      "source": [
        "tensor_three_d = tf.constant([\n",
        "    [[1,2,3],\n",
        "    [4,5,6]],\n",
        "\n",
        "    [[7,8,9],\n",
        "    [-1,-2,-3]],\n",
        "\n",
        "    [[2,5,9],\n",
        "    [-2,6,-3]],\n",
        "])\n",
        "print(tensor_three_d)"
      ],
      "metadata": {
        "colab": {
          "base_uri": "https://localhost:8080/"
        },
        "id": "LXnlgbrpOAFm",
        "outputId": "cdb7802b-bc2f-4129-f36a-4701e3aa8c0f"
      },
      "execution_count": 34,
      "outputs": [
        {
          "output_type": "stream",
          "name": "stdout",
          "text": [
            "tf.Tensor(\n",
            "[[[ 1  2  3]\n",
            "  [ 4  5  6]]\n",
            "\n",
            " [[ 7  8  9]\n",
            "  [-1 -2 -3]]\n",
            "\n",
            " [[ 2  5  9]\n",
            "  [-2  6 -3]]], shape=(3, 2, 3), dtype=int32)\n"
          ]
        }
      ]
    },
    {
      "cell_type": "code",
      "source": [
        "print(tensor_three_d[0,:,:])"
      ],
      "metadata": {
        "colab": {
          "base_uri": "https://localhost:8080/"
        },
        "id": "G_nZ5LMWVMwt",
        "outputId": "65aeaa53-e9cb-459c-b649-3b5476d6ab35"
      },
      "execution_count": 35,
      "outputs": [
        {
          "output_type": "stream",
          "name": "stdout",
          "text": [
            "tf.Tensor(\n",
            "[[1 2 3]\n",
            " [4 5 6]], shape=(2, 3), dtype=int32)\n"
          ]
        }
      ]
    },
    {
      "cell_type": "code",
      "source": [
        "print(tensor_three_d[0:2,...,2])"
      ],
      "metadata": {
        "colab": {
          "base_uri": "https://localhost:8080/"
        },
        "id": "viqPbcn2VQbZ",
        "outputId": "04f7e9ba-ce43-4a5f-e7b0-6ac3971b234d"
      },
      "execution_count": 37,
      "outputs": [
        {
          "output_type": "stream",
          "name": "stdout",
          "text": [
            "tf.Tensor(\n",
            "[[ 3  6]\n",
            " [ 9 -3]], shape=(2, 2), dtype=int32)\n"
          ]
        }
      ]
    },
    {
      "cell_type": "code",
      "source": [
        "x_abs = tf.constant([-2.25, 3.25])\n",
        "tf.abs(x_abs)"
      ],
      "metadata": {
        "colab": {
          "base_uri": "https://localhost:8080/"
        },
        "id": "UlM3Iq5nVeZl",
        "outputId": "6f860243-18a5-4e72-ea37-91f27b96e7b5"
      },
      "execution_count": 38,
      "outputs": [
        {
          "output_type": "execute_result",
          "data": {
            "text/plain": [
              "<tf.Tensor: shape=(2,), dtype=float32, numpy=array([2.25, 3.25], dtype=float32)>"
            ]
          },
          "metadata": {},
          "execution_count": 38
        }
      ]
    },
    {
      "cell_type": "code",
      "source": [
        "tf.abs(tf.constant(-5))"
      ],
      "metadata": {
        "colab": {
          "base_uri": "https://localhost:8080/"
        },
        "id": "u85dTfOoWDws",
        "outputId": "e445e599-14ff-4808-fbec-95cc27c57af3"
      },
      "execution_count": 40,
      "outputs": [
        {
          "output_type": "execute_result",
          "data": {
            "text/plain": [
              "<tf.Tensor: shape=(), dtype=int32, numpy=5>"
            ]
          },
          "metadata": {},
          "execution_count": 40
        }
      ]
    },
    {
      "cell_type": "code",
      "source": [
        "x_abs_complex = tf.constant([-2.25 + 3.25j])\n",
        "tf.abs(x_abs_complex)"
      ],
      "metadata": {
        "colab": {
          "base_uri": "https://localhost:8080/"
        },
        "id": "WYX8SA5AWJWm",
        "outputId": "b0a9319e-3840-4d0c-f53b-d315f814cfe8"
      },
      "execution_count": 41,
      "outputs": [
        {
          "output_type": "execute_result",
          "data": {
            "text/plain": [
              "<tf.Tensor: shape=(1,), dtype=float64, numpy=array([3.95284708])>"
            ]
          },
          "metadata": {},
          "execution_count": 41
        }
      ]
    },
    {
      "cell_type": "code",
      "source": [
        "tf.sqrt((-2.25)**2 + 4.75**2)"
      ],
      "metadata": {
        "colab": {
          "base_uri": "https://localhost:8080/"
        },
        "id": "fDeK_lidWXBt",
        "outputId": "96318d8b-9389-4abf-800e-1a0a74e9463f"
      },
      "execution_count": 42,
      "outputs": [
        {
          "output_type": "execute_result",
          "data": {
            "text/plain": [
              "<tf.Tensor: shape=(), dtype=float32, numpy=5.255949020385742>"
            ]
          },
          "metadata": {},
          "execution_count": 42
        }
      ]
    },
    {
      "cell_type": "code",
      "source": [
        "x_1 = tf.constant([5,3,6,6,4,6], dtype=tf.int32)\n",
        "x_2 = tf.constant([7,6,2,6,7,11], dtype=tf.int32)\n",
        "\n",
        "print(tf.divide(x_1,x_2))"
      ],
      "metadata": {
        "colab": {
          "base_uri": "https://localhost:8080/"
        },
        "id": "SSB72Rl9WfO0",
        "outputId": "feca3d80-5d87-47fa-c39d-6b2f7a67383f"
      },
      "execution_count": 44,
      "outputs": [
        {
          "output_type": "stream",
          "name": "stdout",
          "text": [
            "tf.Tensor([0.71428571 0.5        3.         1.         0.57142857 0.54545455], shape=(6,), dtype=float64)\n"
          ]
        }
      ]
    },
    {
      "cell_type": "code",
      "source": [
        "x_1 = tf.constant([5,3,6,6,4,6], dtype=tf.float32)\n",
        "x_2 = tf.constant([7,6,2,6,0,11], dtype=tf.float32)\n",
        "\n",
        "print(tf.math.divide_no_nan(x_1,x_2))"
      ],
      "metadata": {
        "colab": {
          "base_uri": "https://localhost:8080/"
        },
        "id": "lWy8ZHJaW2sm",
        "outputId": "43372f32-be83-4739-c5c1-0f10d3469a54"
      },
      "execution_count": 46,
      "outputs": [
        {
          "output_type": "stream",
          "name": "stdout",
          "text": [
            "tf.Tensor([0.71428573 0.5        3.         1.         0.         0.54545456], shape=(6,), dtype=float32)\n"
          ]
        }
      ]
    },
    {
      "cell_type": "code",
      "source": [
        "x_1 = tf.constant([5,3,6,6,4,6], dtype=tf.int32)\n",
        "x_2 = tf.constant([7], dtype=tf.int32)\n",
        "x_2_stretched = tf.constant([7,7,7,7,7,7], dtype=tf.int32)\n",
        "\n",
        "print(tf.add(x_1,x_2))\n",
        "print(tf.add(x_1,x_2_stretched))"
      ],
      "metadata": {
        "colab": {
          "base_uri": "https://localhost:8080/"
        },
        "id": "pXwh3xxxXITM",
        "outputId": "377c3187-14cd-4e4f-9fd4-914892020dea"
      },
      "execution_count": 49,
      "outputs": [
        {
          "output_type": "stream",
          "name": "stdout",
          "text": [
            "tf.Tensor([12 10 13 13 11 13], shape=(6,), dtype=int32)\n",
            "tf.Tensor([12 10 13 13 11 13], shape=(6,), dtype=int32)\n"
          ]
        }
      ]
    },
    {
      "cell_type": "code",
      "source": [
        "x_1 = tf.constant([[5,3,6,6,4,6],], dtype=tf.int32)\n",
        "x_2 = tf.constant([[7], [5], [3]], dtype=tf.int32)\n",
        "\n",
        "print(x_1.shape)\n",
        "print(x_2.shape)\n",
        "print(tf.math.multiply(x_1,x_2))"
      ],
      "metadata": {
        "colab": {
          "base_uri": "https://localhost:8080/"
        },
        "id": "Ko0Q_cixXR8e",
        "outputId": "9b35c389-ada2-4abe-b146-f578e1d37481"
      },
      "execution_count": 52,
      "outputs": [
        {
          "output_type": "stream",
          "name": "stdout",
          "text": [
            "(1, 6)\n",
            "(3, 1)\n",
            "tf.Tensor(\n",
            "[[35 21 42 42 28 42]\n",
            " [25 15 30 30 20 30]\n",
            " [15  9 18 18 12 18]], shape=(3, 6), dtype=int32)\n"
          ]
        }
      ]
    },
    {
      "cell_type": "code",
      "source": [
        "x_argmax = tf.constant([[2,20,30,3,6],\n",
        "                       [3,11,16,1,8],\n",
        "                       [14,45,23,5,27]])\n",
        "\n",
        "print(x_argmax.shape)\n",
        "print(tf.math.argmax(x_argmax, 0))\n",
        "print(tf.math.argmin(x_argmax, 0))"
      ],
      "metadata": {
        "colab": {
          "base_uri": "https://localhost:8080/"
        },
        "id": "JUrqoFS6X4rK",
        "outputId": "3d280c3b-f7b4-4559-aac7-7814ba8d055e"
      },
      "execution_count": 58,
      "outputs": [
        {
          "output_type": "stream",
          "name": "stdout",
          "text": [
            "(3, 5)\n",
            "tf.Tensor([2 2 0 2 2], shape=(5,), dtype=int64)\n",
            "tf.Tensor([0 1 1 1 0], shape=(5,), dtype=int64)\n"
          ]
        }
      ]
    },
    {
      "cell_type": "code",
      "source": [
        "x_argmax = tf.constant([200,120,130,3,6])\n",
        "print(tf.math.argmax(x_argmax))"
      ],
      "metadata": {
        "colab": {
          "base_uri": "https://localhost:8080/"
        },
        "id": "Oa1CCJawY0if",
        "outputId": "422af50f-5305-438f-d079-460b055132f0"
      },
      "execution_count": 55,
      "outputs": [
        {
          "output_type": "stream",
          "name": "stdout",
          "text": [
            "tf.Tensor(0, shape=(), dtype=int64)\n"
          ]
        }
      ]
    },
    {
      "cell_type": "code",
      "source": [
        "x_argmax = tf.constant([200,120,130,300,6])\n",
        "print(tf.math.argmax(x_argmax))"
      ],
      "metadata": {
        "colab": {
          "base_uri": "https://localhost:8080/"
        },
        "id": "YZeQBdmcZNUB",
        "outputId": "86606503-9893-4fa3-f732-ae1ffbec65f5"
      },
      "execution_count": 56,
      "outputs": [
        {
          "output_type": "stream",
          "name": "stdout",
          "text": [
            "tf.Tensor(3, shape=(), dtype=int64)\n"
          ]
        }
      ]
    },
    {
      "cell_type": "code",
      "source": [
        "tensor_two_d = tf.constant([\n",
        "    [1,2,3],\n",
        "    [4,5,6],\n",
        "    [7,8,9],\n",
        "    [-1,-2,-3]\n",
        "])\n",
        "print(tensor_two_d)\n",
        "\n",
        "print(tf.math.reduce_sum(tensor_two_d, axis=None, keepdims=False, name=None))"
      ],
      "metadata": {
        "colab": {
          "base_uri": "https://localhost:8080/"
        },
        "id": "3izueT1yZG0Y",
        "outputId": "41e277ee-0ec3-41ad-ee87-c188fc367046"
      },
      "execution_count": 61,
      "outputs": [
        {
          "output_type": "stream",
          "name": "stdout",
          "text": [
            "tf.Tensor(\n",
            "[[ 1  2  3]\n",
            " [ 4  5  6]\n",
            " [ 7  8  9]\n",
            " [-1 -2 -3]], shape=(4, 3), dtype=int32)\n",
            "tf.Tensor(39, shape=(), dtype=int32)\n"
          ]
        }
      ]
    },
    {
      "cell_type": "code",
      "source": [
        "tensor_two_d = tf.constant([\n",
        "    [1,2,3],\n",
        "    [4,5,6],\n",
        "    [7,8,9],\n",
        "    [-1,-2,-3]\n",
        "])\n",
        "print(tensor_two_d)\n",
        "\n",
        "print(tf.math.reduce_min(tensor_two_d, axis=None, keepdims=False, name=None))"
      ],
      "metadata": {
        "colab": {
          "base_uri": "https://localhost:8080/"
        },
        "id": "c2mSAC0qeyYs",
        "outputId": "eb6bc787-df36-4a48-9580-c78affb4817c"
      },
      "execution_count": 62,
      "outputs": [
        {
          "output_type": "stream",
          "name": "stdout",
          "text": [
            "tf.Tensor(\n",
            "[[ 1  2  3]\n",
            " [ 4  5  6]\n",
            " [ 7  8  9]\n",
            " [-1 -2 -3]], shape=(4, 3), dtype=int32)\n",
            "tf.Tensor(-3, shape=(), dtype=int32)\n"
          ]
        }
      ]
    },
    {
      "cell_type": "code",
      "source": [
        "tensor_two_d = tf.constant([\n",
        "    [1,2,3],\n",
        "    [4,5,6],\n",
        "    [7,8,9],\n",
        "    [-1,-2,-3]\n",
        "])\n",
        "print(tensor_two_d.shape)\n",
        "\n",
        "print(tf.math.reduce_sum(tensor_two_d, axis=0, keepdims=False, name=None))"
      ],
      "metadata": {
        "colab": {
          "base_uri": "https://localhost:8080/"
        },
        "id": "r4QF8d4W53WI",
        "outputId": "979df0b2-dd9d-4211-dc25-1d85bd8fc5e0"
      },
      "execution_count": 63,
      "outputs": [
        {
          "output_type": "stream",
          "name": "stdout",
          "text": [
            "(4, 3)\n",
            "tf.Tensor([11 13 15], shape=(3,), dtype=int32)\n"
          ]
        }
      ]
    },
    {
      "cell_type": "code",
      "source": [
        "tensor_two_d = tf.constant([\n",
        "    [1,2,3],\n",
        "    [4,5,6],\n",
        "    [7,8,9],\n",
        "    [-1,-2,-3]\n",
        "])\n",
        "print(tensor_two_d.shape)\n",
        "\n",
        "print(tf.math.reduce_sum(tensor_two_d, axis=1, keepdims=False, name=None))"
      ],
      "metadata": {
        "colab": {
          "base_uri": "https://localhost:8080/"
        },
        "id": "rBqUyyd65_ZN",
        "outputId": "04cd69b1-0994-43ca-ceb0-cbf5ef55ef7b"
      },
      "execution_count": 64,
      "outputs": [
        {
          "output_type": "stream",
          "name": "stdout",
          "text": [
            "(4, 3)\n",
            "tf.Tensor([ 6 15 24 -6], shape=(4,), dtype=int32)\n"
          ]
        }
      ]
    },
    {
      "cell_type": "code",
      "source": [
        "tensor_two_d = tf.constant([\n",
        "    [1,2,3],\n",
        "    [4,5,6],\n",
        "    [7,8,9],\n",
        "    [-1,-2,-3]\n",
        "], dtype=tf.float32)\n",
        "print(tensor_two_d.shape)\n",
        "\n",
        "print(tf.math.reduce_mean(tensor_two_d, axis=0, keepdims=False, name=None))"
      ],
      "metadata": {
        "colab": {
          "base_uri": "https://localhost:8080/"
        },
        "id": "oaQaw9hM6Mb1",
        "outputId": "1d1be0e0-3bda-4868-d1e6-e180d4b36d70"
      },
      "execution_count": 67,
      "outputs": [
        {
          "output_type": "stream",
          "name": "stdout",
          "text": [
            "(4, 3)\n",
            "tf.Tensor([2.75 3.25 3.75], shape=(3,), dtype=float32)\n"
          ]
        }
      ]
    },
    {
      "cell_type": "code",
      "source": [
        "tensor_two_d = tf.constant([\n",
        "    [1,2,3],\n",
        "    [4,5,6],\n",
        "    [7,8,9],\n",
        "    [-1,-2,-3]\n",
        "], dtype=tf.float32)\n",
        "print(tensor_two_d.shape)\n",
        "\n",
        "print(tf.math.reduce_std(tensor_two_d, axis=0, keepdims=False, name=None))"
      ],
      "metadata": {
        "colab": {
          "base_uri": "https://localhost:8080/"
        },
        "id": "HnlFIZ5-6Rpd",
        "outputId": "b8fb1eda-800d-45a9-8786-d4fdc5acb55e"
      },
      "execution_count": 68,
      "outputs": [
        {
          "output_type": "stream",
          "name": "stdout",
          "text": [
            "(4, 3)\n",
            "tf.Tensor([3.0310888 3.6996622 4.43706  ], shape=(3,), dtype=float32)\n"
          ]
        }
      ]
    },
    {
      "cell_type": "code",
      "source": [
        "tf.math.top_k(tensor_two_d, k=1)"
      ],
      "metadata": {
        "colab": {
          "base_uri": "https://localhost:8080/"
        },
        "id": "yZlLAXIl6gU4",
        "outputId": "80d6e5aa-17e7-404d-9d2f-ea431010ae75"
      },
      "execution_count": 70,
      "outputs": [
        {
          "output_type": "execute_result",
          "data": {
            "text/plain": [
              "TopKV2(values=<tf.Tensor: shape=(4, 1), dtype=float32, numpy=\n",
              "array([[ 3.],\n",
              "       [ 6.],\n",
              "       [ 9.],\n",
              "       [-1.]], dtype=float32)>, indices=<tf.Tensor: shape=(4, 1), dtype=int32, numpy=\n",
              "array([[2],\n",
              "       [2],\n",
              "       [2],\n",
              "       [0]], dtype=int32)>)"
            ]
          },
          "metadata": {},
          "execution_count": 70
        }
      ]
    },
    {
      "cell_type": "code",
      "source": [
        "x_1 = tf.constant([[1,2,0],\n",
        "                  [3,5,-1]])\n",
        "x_2 = tf.constant([[1,2,0],\n",
        "                  [3,5,-1],\n",
        "                   [4,5,6]])\n",
        "\n",
        "print(x_1.shape)\n",
        "print(x_2.shape)\n",
        "tf.linalg.matmul(x_1, x_2, transpose_b=False, adjoint_a=False, adjoint_b=False,\n",
        "                 a_is_sparse=False, b_is_sparse=False, output_type=None, name=None)"
      ],
      "metadata": {
        "colab": {
          "base_uri": "https://localhost:8080/"
        },
        "id": "0hUVdE776wXa",
        "outputId": "ab4972c4-0698-4a98-d1cb-cf71a47c1201"
      },
      "execution_count": 73,
      "outputs": [
        {
          "output_type": "stream",
          "name": "stdout",
          "text": [
            "(2, 3)\n",
            "(3, 3)\n"
          ]
        },
        {
          "output_type": "execute_result",
          "data": {
            "text/plain": [
              "<tf.Tensor: shape=(2, 3), dtype=int32, numpy=\n",
              "array([[  7,  12,  -2],\n",
              "       [ 14,  26, -11]], dtype=int32)>"
            ]
          },
          "metadata": {},
          "execution_count": 73
        }
      ]
    },
    {
      "cell_type": "code",
      "source": [
        "print(x_1@x_2)"
      ],
      "metadata": {
        "colab": {
          "base_uri": "https://localhost:8080/"
        },
        "id": "fcfA70Me7q-J",
        "outputId": "7761ffb3-81ab-4a83-a72d-3ae330a27a68"
      },
      "execution_count": 74,
      "outputs": [
        {
          "output_type": "stream",
          "name": "stdout",
          "text": [
            "tf.Tensor(\n",
            "[[  7  12  -2]\n",
            " [ 14  26 -11]], shape=(2, 3), dtype=int32)\n"
          ]
        }
      ]
    },
    {
      "cell_type": "code",
      "source": [
        "tf.transpose(x_1)"
      ],
      "metadata": {
        "colab": {
          "base_uri": "https://localhost:8080/"
        },
        "id": "uOOM7I8B8ONy",
        "outputId": "eef91a14-d9af-4eb6-d351-264338e5940b"
      },
      "execution_count": 75,
      "outputs": [
        {
          "output_type": "execute_result",
          "data": {
            "text/plain": [
              "<tf.Tensor: shape=(3, 2), dtype=int32, numpy=\n",
              "array([[ 1,  3],\n",
              "       [ 2,  5],\n",
              "       [ 0, -1]], dtype=int32)>"
            ]
          },
          "metadata": {},
          "execution_count": 75
        }
      ]
    },
    {
      "cell_type": "code",
      "source": [
        "print(x_1)"
      ],
      "metadata": {
        "colab": {
          "base_uri": "https://localhost:8080/"
        },
        "id": "NMTRa7vU8Wqw",
        "outputId": "85e8a048-0f7e-4bf0-8bca-248574b0caca"
      },
      "execution_count": 76,
      "outputs": [
        {
          "output_type": "stream",
          "name": "stdout",
          "text": [
            "tf.Tensor(\n",
            "[[ 1  2  0]\n",
            " [ 3  5 -1]], shape=(2, 3), dtype=int32)\n"
          ]
        }
      ]
    },
    {
      "cell_type": "code",
      "source": [
        "x_1 = tf.constant([[1,2,0],\n",
        "                  [3,5,-1]])\n",
        "x_2 = tf.constant([[1,2,0],\n",
        "                  [3,5,-1],\n",
        "                   [4,5,6]])\n",
        "\n",
        "print(x_1.shape)\n",
        "print(x_2.shape)\n",
        "tf.linalg.matmul(x_1, x_2, transpose_b=True, adjoint_a=False, adjoint_b=False,\n",
        "                 a_is_sparse=False, b_is_sparse=False, output_type=None, name=None)"
      ],
      "metadata": {
        "colab": {
          "base_uri": "https://localhost:8080/"
        },
        "id": "x9XhZ5788adk",
        "outputId": "08cc1455-fcd1-49ef-80be-6884b1ae0d6d"
      },
      "execution_count": 77,
      "outputs": [
        {
          "output_type": "stream",
          "name": "stdout",
          "text": [
            "(2, 3)\n",
            "(3, 3)\n"
          ]
        },
        {
          "output_type": "execute_result",
          "data": {
            "text/plain": [
              "<tf.Tensor: shape=(2, 3), dtype=int32, numpy=\n",
              "array([[ 5, 13, 14],\n",
              "       [13, 35, 31]], dtype=int32)>"
            ]
          },
          "metadata": {},
          "execution_count": 77
        }
      ]
    },
    {
      "cell_type": "code",
      "source": [
        "x_1 = tf.constant([\n",
        "    [[1,2],\n",
        "    [4,5]],\n",
        "\n",
        "    [[7,8],\n",
        "    [-1,-2]],\n",
        "\n",
        "    [[2,5],\n",
        "    [-2,6]],\n",
        "])\n",
        "\n",
        "x_2 = tf.constant([\n",
        "    [[1,2,3],\n",
        "    [4,5,6]],\n",
        "\n",
        "    [[7,8,9],\n",
        "    [-1,-2,-3]],\n",
        "\n",
        "    [[2,5,9],\n",
        "    [-2,6,-3]],\n",
        "])\n",
        "\n",
        "\n",
        "print(x_1.shape)\n",
        "print(x_2.shape)\n",
        "\n",
        "print(tf.linalg.matmul(x_1,x_2))"
      ],
      "metadata": {
        "colab": {
          "base_uri": "https://localhost:8080/"
        },
        "id": "cmFh7wYX8t6x",
        "outputId": "6e733791-55ca-4111-d781-d29117b9da8d"
      },
      "execution_count": 82,
      "outputs": [
        {
          "output_type": "stream",
          "name": "stdout",
          "text": [
            "(3, 2, 2)\n",
            "(3, 2, 3)\n",
            "tf.Tensor(\n",
            "[[[  9  12  15]\n",
            "  [ 24  33  42]]\n",
            "\n",
            " [[ 41  40  39]\n",
            "  [ -5  -4  -3]]\n",
            "\n",
            " [[ -6  40   3]\n",
            "  [-16  26 -36]]], shape=(3, 2, 3), dtype=int32)\n"
          ]
        }
      ]
    },
    {
      "cell_type": "code",
      "source": [
        "x_1=tf.constant([[0,0],\n",
        "                 [0,2]])\n",
        "\n",
        "x_2=tf.constant([[1,0,0],\n",
        "                 [0,0,0]])\n",
        "\n",
        "print(tf.linalg.matmul(x_1, x_2, a_is_sparse=True, b_is_sparse=True))"
      ],
      "metadata": {
        "colab": {
          "base_uri": "https://localhost:8080/"
        },
        "id": "pDQMgZ_u-Aem",
        "outputId": "19ac9bd3-dd89-47e6-ebc6-dbb53f201947"
      },
      "execution_count": 83,
      "outputs": [
        {
          "output_type": "stream",
          "name": "stdout",
          "text": [
            "tf.Tensor(\n",
            "[[0 0 0]\n",
            " [0 0 0]], shape=(2, 3), dtype=int32)\n"
          ]
        }
      ]
    },
    {
      "cell_type": "code",
      "source": [
        "tensor_two_d = tf.constant([[1,-2,0],\n",
        "                            [3,5,100],\n",
        "                            [1,5,6],\n",
        "                            [2,3,8]],dtype=tf.float16)\n",
        "\n",
        "tensor_out_d = tf.constant([[1,0,0],\n",
        "                           [0,5,0],\n",
        "                           [0,0,6],\n",
        "                           [0,0,0]], dtype=tf.float16)\n",
        "\n",
        "tf.linalg.band_part(tensor_two_d, 0, -1)"
      ],
      "metadata": {
        "colab": {
          "base_uri": "https://localhost:8080/"
        },
        "id": "WzD90YxOCeML",
        "outputId": "b0164c90-53a7-4322-aafb-2eb85ca1302b"
      },
      "execution_count": 86,
      "outputs": [
        {
          "output_type": "execute_result",
          "data": {
            "text/plain": [
              "<tf.Tensor: shape=(4, 3), dtype=float16, numpy=\n",
              "array([[  1.,  -2.,   0.],\n",
              "       [  0.,   5., 100.],\n",
              "       [  0.,   0.,   6.],\n",
              "       [  0.,   0.,   0.]], dtype=float16)>"
            ]
          },
          "metadata": {},
          "execution_count": 86
        }
      ]
    },
    {
      "cell_type": "code",
      "source": [
        "tensor_two_d_m_n = tf.constant([[0,-1,-2],\n",
        "                                [1,0,-1],\n",
        "                                [2,1,0],\n",
        "                                [3,2,1]], dtype=tf.float16)\n",
        "\n",
        "tensor_two_d_n_m = tf.constant([[0,1,2],\n",
        "                                [-1,0,1],\n",
        "                                [-2,-1,0],\n",
        "                                [-3,-2,-1]], dtype=tf.float16)"
      ],
      "metadata": {
        "id": "O2AhDApMDim6"
      },
      "execution_count": 84,
      "outputs": []
    },
    {
      "cell_type": "code",
      "source": [
        "tensor_two_d = tf.constant([[1,-2,0],\n",
        "                            [3,5,100],\n",
        "                            [1,5,6]],dtype=tf.float32)\n",
        "\n",
        "tensor_two_d_inv = tf.linalg.inv(tensor_two_d)"
      ],
      "metadata": {
        "id": "irwvzhOPEqBU"
      },
      "execution_count": 89,
      "outputs": []
    },
    {
      "cell_type": "code",
      "source": [
        "tensor_two_d@tensor_two_d_inv"
      ],
      "metadata": {
        "colab": {
          "base_uri": "https://localhost:8080/"
        },
        "id": "B1JbDRgVGJQc",
        "outputId": "ef739098-96a9-4fbe-a0c8-ae6cee9df3d1"
      },
      "execution_count": 91,
      "outputs": [
        {
          "output_type": "execute_result",
          "data": {
            "text/plain": [
              "<tf.Tensor: shape=(3, 3), dtype=float32, numpy=\n",
              "array([[ 1.0000000e+00,  7.4505806e-09,  0.0000000e+00],\n",
              "       [ 1.6391277e-07,  1.0000000e+00,  4.4703484e-08],\n",
              "       [-5.2154064e-08,  7.4505806e-08,  1.0000000e+00]], dtype=float32)>"
            ]
          },
          "metadata": {},
          "execution_count": 91
        }
      ]
    },
    {
      "cell_type": "code",
      "source": [
        "s,v,d = tf.linalg.svd(tensor_two_d)\n",
        "print(s)\n",
        "print(v)\n",
        "print(d)"
      ],
      "metadata": {
        "colab": {
          "base_uri": "https://localhost:8080/"
        },
        "id": "zXkrfsaJGea6",
        "outputId": "007c18cd-838c-4d18-a8dc-ab9a1a9e1cf1"
      },
      "execution_count": 93,
      "outputs": [
        {
          "output_type": "stream",
          "name": "stdout",
          "text": [
            "tf.Tensor([100.3663      5.1059036   1.2371687], shape=(3,), dtype=float32)\n",
            "tf.Tensor(\n",
            "[[-7.4980810e-04 -3.7569830e-01  9.2674178e-01]\n",
            " [ 9.9803799e-01 -5.8300879e-02 -2.2827482e-02]\n",
            " [ 6.2606096e-02  9.2490643e-01  3.7500489e-01]], shape=(3, 3), dtype=float32)\n",
            "tf.Tensor(\n",
            "[[ 0.03044816  0.07330841  0.99684453]\n",
            " [ 0.0528536   0.9957936  -0.07484547]\n",
            " [ 0.998138   -0.05496572 -0.02644547]], shape=(3, 3), dtype=float32)\n"
          ]
        }
      ]
    },
    {
      "cell_type": "code",
      "source": [],
      "metadata": {
        "id": "vdzWHp7VHAzI"
      },
      "execution_count": null,
      "outputs": []
    }
  ]
}