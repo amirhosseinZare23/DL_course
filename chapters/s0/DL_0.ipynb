{
  "cells": [
    {
      "cell_type": "markdown",
      "metadata": {},
      "source": [
        "# AmirhosseinZare-40208334\n",
        "## Chapter1"
      ]
    },
    {
      "cell_type": "markdown",
      "metadata": {
        "id": "QcDRO8RpJKp3"
      },
      "source": [
        "## 1.1"
      ]
    },
    {
      "cell_type": "code",
      "execution_count": 5,
      "metadata": {
        "id": "8E4NRaMFJlor"
      },
      "outputs": [],
      "source": [
        "# Load library\n",
        "import numpy as np\n",
        "# Create a vector as a row\n",
        "vector_row = np.array([1, 2, 3])\n",
        "# Create a vector as a column\n",
        "vector_column = np.array([[1],\n",
        "[2],\n",
        "[3]])"
      ]
    },
    {
      "cell_type": "markdown",
      "metadata": {
        "id": "_RbMn1BuJJ6s"
      },
      "source": [
        "## 1.2"
      ]
    },
    {
      "cell_type": "code",
      "execution_count": 6,
      "metadata": {
        "id": "YD8lqyV1JqEo"
      },
      "outputs": [],
      "source": [
        "# Load library\n",
        "import numpy as np\n",
        "# Create a matrix\n",
        "matrix = np.array([[1, 2],\n",
        "[1, 2],\n",
        "[1, 2]])"
      ]
    },
    {
      "cell_type": "markdown",
      "metadata": {
        "id": "5h1L78-HJJrV"
      },
      "source": [
        "## 1.3"
      ]
    },
    {
      "cell_type": "code",
      "execution_count": 11,
      "metadata": {
        "colab": {
          "base_uri": "https://localhost:8080/"
        },
        "id": "uqTiBbfvJ0ts",
        "outputId": "4157234b-65cb-4c90-bbdc-51306581028b"
      },
      "outputs": [
        {
          "name": "stdout",
          "output_type": "stream",
          "text": [
            "  (1, 1)\t1\n",
            "  (2, 0)\t3\n"
          ]
        }
      ],
      "source": [
        "# Load libraries\n",
        "import numpy as np\n",
        "from scipy import sparse\n",
        "# Create a matrix\n",
        "matrix = np.array([[0, 0],\n",
        "[0, 1],\n",
        "[3, 0]])\n",
        "# Create compressed sparse row (CSR) matrix\n",
        "matrix_sparse = sparse.csr_matrix(matrix)\n",
        "print(matrix_sparse)"
      ]
    },
    {
      "cell_type": "markdown",
      "metadata": {
        "id": "ehVSrkvgJYy8"
      },
      "source": [
        "## 1.4"
      ]
    },
    {
      "cell_type": "code",
      "execution_count": 12,
      "metadata": {
        "colab": {
          "base_uri": "https://localhost:8080/"
        },
        "id": "CX_rmV51KWFS",
        "outputId": "c4fc3428-3f49-483c-a6cf-ba4075349614"
      },
      "outputs": [
        {
          "data": {
            "text/plain": [
              "3"
            ]
          },
          "execution_count": 12,
          "metadata": {},
          "output_type": "execute_result"
        }
      ],
      "source": [
        "# Load library\n",
        "import numpy as np\n",
        "# Create row vector\n",
        "vector = np.array([1, 2, 3, 4, 5, 6])\n",
        "# Create matrix\n",
        "matrix = np.array([[1, 2, 3],\n",
        "[4, 5, 6],\n",
        "[7, 8, 9]])\n",
        "# Select third element of vector\n",
        "vector[2]"
      ]
    },
    {
      "cell_type": "code",
      "execution_count": 13,
      "metadata": {
        "colab": {
          "base_uri": "https://localhost:8080/"
        },
        "id": "d_YUuy88KYZA",
        "outputId": "f8d90031-7e3e-4100-e266-444aa5bc9ac5"
      },
      "outputs": [
        {
          "data": {
            "text/plain": [
              "5"
            ]
          },
          "execution_count": 13,
          "metadata": {},
          "output_type": "execute_result"
        }
      ],
      "source": [
        "matrix[1,1]"
      ]
    },
    {
      "cell_type": "markdown",
      "metadata": {
        "id": "ngKmpwwsI5Sc"
      },
      "source": [
        "## 1.5"
      ]
    },
    {
      "cell_type": "code",
      "execution_count": 1,
      "metadata": {
        "colab": {
          "base_uri": "https://localhost:8080/"
        },
        "id": "dz91VqBHFxR2",
        "outputId": "ba76ad2d-6470-4a61-ee79-1b0b831ce61c"
      },
      "outputs": [
        {
          "data": {
            "text/plain": [
              "(3, 4)"
            ]
          },
          "execution_count": 1,
          "metadata": {},
          "output_type": "execute_result"
        }
      ],
      "source": [
        "# Load library\n",
        "import numpy as np\n",
        "# Create matrix\n",
        "matrix = np.array([[1, 2, 3, 4],\n",
        "[5, 6, 7, 8],\n",
        "[9, 10, 11, 12]])\n",
        "# View number of rows and columns\n",
        "matrix.shape"
      ]
    },
    {
      "cell_type": "code",
      "execution_count": 2,
      "metadata": {
        "colab": {
          "base_uri": "https://localhost:8080/"
        },
        "id": "bLloIDSII3Cd",
        "outputId": "6e16cfd9-b93c-4291-a4b1-829afd3581cd"
      },
      "outputs": [
        {
          "data": {
            "text/plain": [
              "12"
            ]
          },
          "execution_count": 2,
          "metadata": {},
          "output_type": "execute_result"
        }
      ],
      "source": [
        "matrix.size"
      ]
    },
    {
      "cell_type": "code",
      "execution_count": 3,
      "metadata": {
        "colab": {
          "base_uri": "https://localhost:8080/"
        },
        "id": "5vv7JdTSI9Tz",
        "outputId": "6ed7c78d-86d5-4695-f886-aafe72620238"
      },
      "outputs": [
        {
          "data": {
            "text/plain": [
              "2"
            ]
          },
          "execution_count": 3,
          "metadata": {},
          "output_type": "execute_result"
        }
      ],
      "source": [
        "matrix.ndim"
      ]
    },
    {
      "cell_type": "markdown",
      "metadata": {
        "id": "HgLo0mzzJBPe"
      },
      "source": [
        "## 1.6"
      ]
    },
    {
      "cell_type": "code",
      "execution_count": 4,
      "metadata": {
        "colab": {
          "base_uri": "https://localhost:8080/"
        },
        "id": "ecAKfohdI_ub",
        "outputId": "9fa1123a-93a5-46bd-dbc0-f9e168f08134"
      },
      "outputs": [
        {
          "data": {
            "text/plain": [
              "array([[101, 102, 103],\n",
              "       [104, 105, 106],\n",
              "       [107, 108, 109]])"
            ]
          },
          "execution_count": 4,
          "metadata": {},
          "output_type": "execute_result"
        }
      ],
      "source": [
        "# Load library\n",
        "import numpy as np\n",
        "# Create matrix\n",
        "matrix = np.array([[1, 2, 3],\n",
        "[4, 5, 6],\n",
        "[7, 8, 9]])\n",
        "# Create function that adds 100 to something\n",
        "add_100 = lambda i: i + 100\n",
        "# Create vectorized function\n",
        "vectorized_add_100 = np.vectorize(add_100)\n",
        "# Apply function to all elements in matrix\n",
        "vectorized_add_100(matrix)"
      ]
    },
    {
      "cell_type": "markdown",
      "metadata": {
        "id": "yQdYBTE1Kr6h"
      },
      "source": [
        "## 1.7"
      ]
    },
    {
      "cell_type": "code",
      "execution_count": 14,
      "metadata": {
        "colab": {
          "base_uri": "https://localhost:8080/"
        },
        "id": "KZR1Vf3aJc0Z",
        "outputId": "f3df7ea2-e24b-4db8-cc0a-aa0274d69d3c"
      },
      "outputs": [
        {
          "data": {
            "text/plain": [
              "9"
            ]
          },
          "execution_count": 14,
          "metadata": {},
          "output_type": "execute_result"
        }
      ],
      "source": [
        "# Load library\n",
        "import numpy as np\n",
        "# Create matrix\n",
        "matrix = np.array([[1, 2, 3],\n",
        "[4, 5, 6],\n",
        "[7, 8, 9]])\n",
        "# Return maximum element\n",
        "np.max(matrix)"
      ]
    },
    {
      "cell_type": "code",
      "execution_count": 16,
      "metadata": {
        "colab": {
          "base_uri": "https://localhost:8080/"
        },
        "id": "NNJgQi06KtiN",
        "outputId": "08b884a6-dcb9-491f-c93c-d6a2f186c9bd"
      },
      "outputs": [
        {
          "data": {
            "text/plain": [
              "1"
            ]
          },
          "execution_count": 16,
          "metadata": {},
          "output_type": "execute_result"
        }
      ],
      "source": [
        "np.min(matrix)"
      ]
    },
    {
      "cell_type": "code",
      "execution_count": 18,
      "metadata": {
        "colab": {
          "base_uri": "https://localhost:8080/"
        },
        "id": "-GHXjmVpKvbm",
        "outputId": "a7e138c3-c35e-4484-c8b6-00607f889dc5"
      },
      "outputs": [
        {
          "data": {
            "text/plain": [
              "array([7, 8, 9])"
            ]
          },
          "execution_count": 18,
          "metadata": {},
          "output_type": "execute_result"
        }
      ],
      "source": [
        "# Find maximum element in each column\n",
        "np.max(matrix, axis=0)"
      ]
    },
    {
      "cell_type": "code",
      "execution_count": 19,
      "metadata": {
        "colab": {
          "base_uri": "https://localhost:8080/"
        },
        "id": "-o9_eUfuLg2Z",
        "outputId": "a817504c-4191-40c6-c45c-26f24bb0f903"
      },
      "outputs": [
        {
          "data": {
            "text/plain": [
              "array([3, 6, 9])"
            ]
          },
          "execution_count": 19,
          "metadata": {},
          "output_type": "execute_result"
        }
      ],
      "source": [
        "# Find maximum element in each row\n",
        "np.max(matrix, axis=1)"
      ]
    },
    {
      "cell_type": "markdown",
      "metadata": {
        "id": "VylRoJNMLsMD"
      },
      "source": [
        "## 1.8"
      ]
    },
    {
      "cell_type": "code",
      "execution_count": 21,
      "metadata": {
        "colab": {
          "base_uri": "https://localhost:8080/"
        },
        "id": "6VoMcQNlLnA6",
        "outputId": "033e573e-2e33-46ef-bead-58a17b3cb525"
      },
      "outputs": [
        {
          "data": {
            "text/plain": [
              "5.0"
            ]
          },
          "execution_count": 21,
          "metadata": {},
          "output_type": "execute_result"
        }
      ],
      "source": [
        "# Load library\n",
        "import numpy as np\n",
        "# Create matrix\n",
        "matrix = np.array([[1, 2, 3],\n",
        "[4, 5, 6],\n",
        "[7, 8, 9]])\n",
        "# Return mean\n",
        "np.mean(matrix)"
      ]
    },
    {
      "cell_type": "code",
      "execution_count": 22,
      "metadata": {
        "colab": {
          "base_uri": "https://localhost:8080/"
        },
        "id": "6teiimOALtjj",
        "outputId": "86f86f74-a7a8-461d-ea1b-d5755ea8a014"
      },
      "outputs": [
        {
          "data": {
            "text/plain": [
              "6.666666666666667"
            ]
          },
          "execution_count": 22,
          "metadata": {},
          "output_type": "execute_result"
        }
      ],
      "source": [
        "# Return variance\n",
        "np.var(matrix)"
      ]
    },
    {
      "cell_type": "code",
      "execution_count": 23,
      "metadata": {
        "colab": {
          "base_uri": "https://localhost:8080/"
        },
        "id": "ez56EfvvLzkB",
        "outputId": "1d550a80-f017-4450-9f54-7d33faa5bb20"
      },
      "outputs": [
        {
          "data": {
            "text/plain": [
              "2.581988897471611"
            ]
          },
          "execution_count": 23,
          "metadata": {},
          "output_type": "execute_result"
        }
      ],
      "source": [
        "# Return standard deviation\n",
        "np.std(matrix)"
      ]
    },
    {
      "cell_type": "code",
      "execution_count": 24,
      "metadata": {
        "colab": {
          "base_uri": "https://localhost:8080/"
        },
        "id": "-a_SjIIjL28L",
        "outputId": "44659c1a-7f27-4540-8fef-4658ee93024b"
      },
      "outputs": [
        {
          "data": {
            "text/plain": [
              "array([4., 5., 6.])"
            ]
          },
          "execution_count": 24,
          "metadata": {},
          "output_type": "execute_result"
        }
      ],
      "source": [
        "# Find the mean value in each column\n",
        "np.mean(matrix, axis=0)"
      ]
    },
    {
      "cell_type": "markdown",
      "metadata": {
        "id": "qaxs0qFEMlDQ"
      },
      "source": [
        "## 1.9"
      ]
    },
    {
      "cell_type": "code",
      "execution_count": 25,
      "metadata": {
        "colab": {
          "base_uri": "https://localhost:8080/"
        },
        "id": "xR8YdH5tMMid",
        "outputId": "a09ac383-c6c0-4ab6-b914-7c059b084acb"
      },
      "outputs": [
        {
          "data": {
            "text/plain": [
              "array([[ 1,  2,  3,  4,  5,  6],\n",
              "       [ 7,  8,  9, 10, 11, 12]])"
            ]
          },
          "execution_count": 25,
          "metadata": {},
          "output_type": "execute_result"
        }
      ],
      "source": [
        "# Load library\n",
        "import numpy as np\n",
        "# Create 4x3 matrix\n",
        "matrix = np.array([[1, 2, 3],\n",
        "[4, 5, 6],\n",
        "[7, 8, 9],\n",
        "[10, 11, 12]])\n",
        "# Reshape matrix into 2x6 matrix\n",
        "matrix.reshape(2, 6)"
      ]
    },
    {
      "cell_type": "code",
      "execution_count": 27,
      "metadata": {
        "colab": {
          "base_uri": "https://localhost:8080/"
        },
        "id": "bDpzBvsFMvku",
        "outputId": "e3069889-982f-4815-c795-b7eb8bd6dc27"
      },
      "outputs": [
        {
          "data": {
            "text/plain": [
              "12"
            ]
          },
          "execution_count": 27,
          "metadata": {},
          "output_type": "execute_result"
        }
      ],
      "source": [
        "matrix.size"
      ]
    },
    {
      "cell_type": "code",
      "execution_count": 28,
      "metadata": {
        "colab": {
          "base_uri": "https://localhost:8080/"
        },
        "id": "uKRgnGbrMmi3",
        "outputId": "6b4bb108-df08-492c-aa26-25a1285e2334"
      },
      "outputs": [
        {
          "data": {
            "text/plain": [
              "array([[ 1,  2,  3,  4,  5,  6,  7,  8,  9, 10, 11, 12]])"
            ]
          },
          "execution_count": 28,
          "metadata": {},
          "output_type": "execute_result"
        }
      ],
      "source": [
        "matrix.reshape(1, -1)"
      ]
    },
    {
      "cell_type": "code",
      "execution_count": 29,
      "metadata": {
        "colab": {
          "base_uri": "https://localhost:8080/"
        },
        "id": "pOgStQ2UMuO3",
        "outputId": "0786ce27-a224-48e1-edb5-53f6ff0da224"
      },
      "outputs": [
        {
          "data": {
            "text/plain": [
              "array([ 1,  2,  3,  4,  5,  6,  7,  8,  9, 10, 11, 12])"
            ]
          },
          "execution_count": 29,
          "metadata": {},
          "output_type": "execute_result"
        }
      ],
      "source": [
        "matrix.reshape(12)"
      ]
    },
    {
      "cell_type": "markdown",
      "metadata": {
        "id": "eluRpVIdOdAK"
      },
      "source": [
        "## 1.10"
      ]
    },
    {
      "cell_type": "code",
      "execution_count": 30,
      "metadata": {
        "colab": {
          "base_uri": "https://localhost:8080/"
        },
        "id": "D4H1xN1fM0PM",
        "outputId": "e89e520d-01bb-41fc-da5c-9f8f0db6f202"
      },
      "outputs": [
        {
          "data": {
            "text/plain": [
              "array([[1, 4, 7],\n",
              "       [2, 5, 8],\n",
              "       [3, 6, 9]])"
            ]
          },
          "execution_count": 30,
          "metadata": {},
          "output_type": "execute_result"
        }
      ],
      "source": [
        "# Load library\n",
        "import numpy as np\n",
        "# Create matrix\n",
        "matrix = np.array([[1, 2, 3],\n",
        "[4, 5, 6],\n",
        "[7, 8, 9]])\n",
        "# Transpose matrix\n",
        "matrix.T"
      ]
    },
    {
      "cell_type": "code",
      "execution_count": 31,
      "metadata": {
        "colab": {
          "base_uri": "https://localhost:8080/"
        },
        "id": "Hf2KJ5goOh2E",
        "outputId": "bffc1cc4-5330-48b1-bd90-238087e44e84"
      },
      "outputs": [
        {
          "data": {
            "text/plain": [
              "array([1, 2, 3, 4, 5, 6])"
            ]
          },
          "execution_count": 31,
          "metadata": {},
          "output_type": "execute_result"
        }
      ],
      "source": [
        "# Transpose vector\n",
        "np.array([1, 2, 3, 4, 5, 6]).T"
      ]
    },
    {
      "cell_type": "code",
      "execution_count": 32,
      "metadata": {
        "colab": {
          "base_uri": "https://localhost:8080/"
        },
        "id": "u5SggheiOxNX",
        "outputId": "922d1982-764d-46d7-aacf-56cd270863b8"
      },
      "outputs": [
        {
          "data": {
            "text/plain": [
              "array([[1],\n",
              "       [2],\n",
              "       [3],\n",
              "       [4],\n",
              "       [5],\n",
              "       [6]])"
            ]
          },
          "execution_count": 32,
          "metadata": {},
          "output_type": "execute_result"
        }
      ],
      "source": [
        "# Tranpose row vector\n",
        "np.array([[1, 2, 3, 4, 5, 6]]).T"
      ]
    },
    {
      "cell_type": "markdown",
      "metadata": {
        "id": "1Im2ZOnPPbJv"
      },
      "source": [
        "## 1.11"
      ]
    },
    {
      "cell_type": "code",
      "execution_count": 33,
      "metadata": {
        "colab": {
          "base_uri": "https://localhost:8080/"
        },
        "id": "BrOlRMgnOy9V",
        "outputId": "62247643-ed6d-4968-f1b4-160b7db0e487"
      },
      "outputs": [
        {
          "data": {
            "text/plain": [
              "array([1, 2, 3, 4, 5, 6, 7, 8, 9])"
            ]
          },
          "execution_count": 33,
          "metadata": {},
          "output_type": "execute_result"
        }
      ],
      "source": [
        "# Load library\n",
        "import numpy as np\n",
        "# Create matrix\n",
        "matrix = np.array([[1, 2, 3],\n",
        "[4, 5, 6],\n",
        "[7, 8, 9]])\n",
        "# Flatten matrix\n",
        "matrix.flatten()"
      ]
    },
    {
      "cell_type": "code",
      "execution_count": 34,
      "metadata": {
        "colab": {
          "base_uri": "https://localhost:8080/"
        },
        "id": "3RDozEo3PcwT",
        "outputId": "d61b696a-b886-413e-91fe-fe649a6a8bb3"
      },
      "outputs": [
        {
          "data": {
            "text/plain": [
              "array([[1, 2, 3, 4, 5, 6, 7, 8, 9]])"
            ]
          },
          "execution_count": 34,
          "metadata": {},
          "output_type": "execute_result"
        }
      ],
      "source": [
        "matrix.reshape(1, -1)"
      ]
    },
    {
      "cell_type": "markdown",
      "metadata": {
        "id": "alGID2_DPiuV"
      },
      "source": [
        "## 1.12"
      ]
    },
    {
      "cell_type": "code",
      "execution_count": 35,
      "metadata": {
        "colab": {
          "base_uri": "https://localhost:8080/"
        },
        "id": "yU8YiRwxPgU3",
        "outputId": "63f39db1-5b83-4634-839a-848768ed40b3"
      },
      "outputs": [
        {
          "data": {
            "text/plain": [
              "2"
            ]
          },
          "execution_count": 35,
          "metadata": {},
          "output_type": "execute_result"
        }
      ],
      "source": [
        "# Load library\n",
        "import numpy as np\n",
        "# Create matrix\n",
        "matrix = np.array([[1, 1, 1],\n",
        "[1, 1, 10],\n",
        "[1, 1, 15]])\n",
        "# Return matrix rank\n",
        "np.linalg.matrix_rank(matrix)"
      ]
    },
    {
      "cell_type": "markdown",
      "metadata": {
        "id": "cLh3m51dRP1r"
      },
      "source": [
        "## 1.13"
      ]
    },
    {
      "cell_type": "code",
      "execution_count": 36,
      "metadata": {
        "colab": {
          "base_uri": "https://localhost:8080/"
        },
        "id": "r5yPudsQPycq",
        "outputId": "4548e9d6-e249-48ec-8f3a-87d060b5773c"
      },
      "outputs": [
        {
          "data": {
            "text/plain": [
              "0.0"
            ]
          },
          "execution_count": 36,
          "metadata": {},
          "output_type": "execute_result"
        }
      ],
      "source": [
        "# Load library\n",
        "import numpy as np\n",
        "# Create matrix\n",
        "matrix = np.array([[1, 2, 3],\n",
        "[2, 4, 6],\n",
        "[3, 8, 9]])\n",
        "# Return determinant of matrix\n",
        "np.linalg.det(matrix)"
      ]
    },
    {
      "cell_type": "markdown",
      "metadata": {
        "id": "tKqxaqc7R-AL"
      },
      "source": [
        "## 1.14"
      ]
    },
    {
      "cell_type": "code",
      "execution_count": 37,
      "metadata": {
        "colab": {
          "base_uri": "https://localhost:8080/"
        },
        "id": "7eq6q5FIRRXs",
        "outputId": "07edacae-cdd3-4c08-ac7b-de18c334dc44"
      },
      "outputs": [
        {
          "data": {
            "text/plain": [
              "array([1, 4, 9])"
            ]
          },
          "execution_count": 37,
          "metadata": {},
          "output_type": "execute_result"
        }
      ],
      "source": [
        "# Load library\n",
        "import numpy as np\n",
        "# Create matrix\n",
        "matrix = np.array([[1, 2, 3],\n",
        "[2, 4, 6],\n",
        "[3, 8, 9]])\n",
        "# Return diagonal elements\n",
        "matrix.diagonal()"
      ]
    },
    {
      "cell_type": "code",
      "execution_count": 39,
      "metadata": {
        "colab": {
          "base_uri": "https://localhost:8080/"
        },
        "id": "ahmwoBhlR9eQ",
        "outputId": "65613676-a04d-4a5d-94d0-3dbf16adee41"
      },
      "outputs": [
        {
          "data": {
            "text/plain": [
              "array([2, 6])"
            ]
          },
          "execution_count": 39,
          "metadata": {},
          "output_type": "execute_result"
        }
      ],
      "source": [
        "matrix.diagonal(offset=1)"
      ]
    },
    {
      "cell_type": "code",
      "execution_count": 40,
      "metadata": {
        "colab": {
          "base_uri": "https://localhost:8080/"
        },
        "id": "GkyL2LzITxnH",
        "outputId": "179e4006-7f78-423f-d6ee-240f8b75d863"
      },
      "outputs": [
        {
          "data": {
            "text/plain": [
              "array([2, 8])"
            ]
          },
          "execution_count": 40,
          "metadata": {},
          "output_type": "execute_result"
        }
      ],
      "source": [
        "matrix.diagonal(offset=-1)"
      ]
    },
    {
      "cell_type": "markdown",
      "metadata": {
        "id": "ueryHEGGT-0P"
      },
      "source": [
        "## 1.15"
      ]
    },
    {
      "cell_type": "code",
      "execution_count": 41,
      "metadata": {
        "colab": {
          "base_uri": "https://localhost:8080/"
        },
        "id": "SCPYL9dNT8SV",
        "outputId": "01522f31-1576-4647-a588-46966519c266"
      },
      "outputs": [
        {
          "data": {
            "text/plain": [
              "14"
            ]
          },
          "execution_count": 41,
          "metadata": {},
          "output_type": "execute_result"
        }
      ],
      "source": [
        "import numpy as np\n",
        "# Create matrix\n",
        "matrix = np.array([[1, 2, 3],\n",
        "[2, 4, 6],\n",
        "[3, 8, 9]])\n",
        "# Return trace\n",
        "matrix.trace()"
      ]
    },
    {
      "cell_type": "code",
      "execution_count": 43,
      "metadata": {
        "colab": {
          "base_uri": "https://localhost:8080/"
        },
        "id": "w4mzc2LpT_-G",
        "outputId": "23c1af41-87dd-4c5b-c456-9d9d948320e8"
      },
      "outputs": [
        {
          "data": {
            "text/plain": [
              "14"
            ]
          },
          "execution_count": 43,
          "metadata": {},
          "output_type": "execute_result"
        }
      ],
      "source": [
        "sum(matrix.diagonal())"
      ]
    },
    {
      "cell_type": "markdown",
      "metadata": {
        "id": "0VOYoC-CUHCS"
      },
      "source": [
        "## 1.17"
      ]
    },
    {
      "cell_type": "code",
      "execution_count": 44,
      "metadata": {
        "colab": {
          "base_uri": "https://localhost:8080/"
        },
        "id": "JWRWBfktUCeD",
        "outputId": "7b5992a8-2111-4916-b04a-42e585d83c99"
      },
      "outputs": [
        {
          "data": {
            "text/plain": [
              "32"
            ]
          },
          "execution_count": 44,
          "metadata": {},
          "output_type": "execute_result"
        }
      ],
      "source": [
        "# Load library\n",
        "import numpy as np\n",
        "# Create two vectors\n",
        "vector_a = np.array([1,2,3])\n",
        "vector_b = np.array([4,5,6])\n",
        "# Calculate dot product\n",
        "np.dot(vector_a, vector_b)"
      ]
    },
    {
      "cell_type": "markdown",
      "metadata": {
        "id": "paVa6QzzUUpv"
      },
      "source": [
        "## 1.18"
      ]
    },
    {
      "cell_type": "code",
      "execution_count": 46,
      "metadata": {
        "colab": {
          "base_uri": "https://localhost:8080/"
        },
        "id": "EbqAL6eTUNIW",
        "outputId": "b6005f3e-ea26-4acd-a8fd-bacef5ede8b3"
      },
      "outputs": [
        {
          "data": {
            "text/plain": [
              "array([[ 2,  4,  2],\n",
              "       [ 2,  4,  2],\n",
              "       [ 2,  4, 10]])"
            ]
          },
          "execution_count": 46,
          "metadata": {},
          "output_type": "execute_result"
        }
      ],
      "source": [
        "# Load library\n",
        "import numpy as np\n",
        "# Create matrix\n",
        "matrix_a = np.array([[1, 1, 1],\n",
        "[1, 1, 1],\n",
        "[1, 1, 2]])\n",
        "# Create matrix\n",
        "matrix_b = np.array([[1, 3, 1],\n",
        "[1, 3, 1],\n",
        "[1, 3, 8]])\n",
        "# Add two matrices\n",
        "np.add(matrix_a, matrix_b)"
      ]
    },
    {
      "cell_type": "code",
      "execution_count": 47,
      "metadata": {
        "colab": {
          "base_uri": "https://localhost:8080/"
        },
        "id": "pE9A4o4tUXnk",
        "outputId": "7ac114b9-2a10-4e99-f359-4a74b78274c0"
      },
      "outputs": [
        {
          "data": {
            "text/plain": [
              "array([[ 0, -2,  0],\n",
              "       [ 0, -2,  0],\n",
              "       [ 0, -2, -6]])"
            ]
          },
          "execution_count": 47,
          "metadata": {},
          "output_type": "execute_result"
        }
      ],
      "source": [
        "# Subtract two matrices\n",
        "np.subtract(matrix_a, matrix_b)"
      ]
    },
    {
      "cell_type": "code",
      "execution_count": 48,
      "metadata": {
        "colab": {
          "base_uri": "https://localhost:8080/"
        },
        "id": "IRRkVsV3UeeQ",
        "outputId": "2fa8ec9d-2c56-4ce3-a836-4f659996ffd6"
      },
      "outputs": [
        {
          "data": {
            "text/plain": [
              "array([[ 2,  4,  2],\n",
              "       [ 2,  4,  2],\n",
              "       [ 2,  4, 10]])"
            ]
          },
          "execution_count": 48,
          "metadata": {},
          "output_type": "execute_result"
        }
      ],
      "source": [
        "matrix_a + matrix_b"
      ]
    },
    {
      "cell_type": "markdown",
      "metadata": {
        "id": "yY8oZZrfUmhI"
      },
      "source": [
        "## 1.19"
      ]
    },
    {
      "cell_type": "code",
      "execution_count": 49,
      "metadata": {
        "colab": {
          "base_uri": "https://localhost:8080/"
        },
        "id": "L13oJ7RPUh7H",
        "outputId": "f81b7b48-f19d-4a40-9eeb-3dfa2da7198c"
      },
      "outputs": [
        {
          "data": {
            "text/plain": [
              "array([[2, 5],\n",
              "       [3, 7]])"
            ]
          },
          "execution_count": 49,
          "metadata": {},
          "output_type": "execute_result"
        }
      ],
      "source": [
        "# Load library\n",
        "import numpy as np\n",
        "# Create matrix\n",
        "matrix_a = np.array([[1, 1],\n",
        "[1, 2]])\n",
        "# Create matrix\n",
        "matrix_b = np.array([[1, 3],\n",
        "[1, 2]])\n",
        "# Multiply two matrices\n",
        "np.dot(matrix_a, matrix_b)"
      ]
    },
    {
      "cell_type": "code",
      "execution_count": 50,
      "metadata": {
        "colab": {
          "base_uri": "https://localhost:8080/"
        },
        "id": "QPLF8SAUUptT",
        "outputId": "8828519d-2032-4906-a748-ab0ccd412f98"
      },
      "outputs": [
        {
          "data": {
            "text/plain": [
              "array([[2, 5],\n",
              "       [3, 7]])"
            ]
          },
          "execution_count": 50,
          "metadata": {},
          "output_type": "execute_result"
        }
      ],
      "source": [
        "# Multiply two matrices\n",
        "matrix_a @ matrix_b"
      ]
    },
    {
      "cell_type": "code",
      "execution_count": 51,
      "metadata": {
        "colab": {
          "base_uri": "https://localhost:8080/"
        },
        "id": "F5vKURTFUu1G",
        "outputId": "1a94129d-1071-492b-e53c-a7298c18459c"
      },
      "outputs": [
        {
          "data": {
            "text/plain": [
              "array([[1, 3],\n",
              "       [1, 4]])"
            ]
          },
          "execution_count": 51,
          "metadata": {},
          "output_type": "execute_result"
        }
      ],
      "source": [
        "# Multiply two matrices element-wise\n",
        "matrix_a * matrix_b"
      ]
    },
    {
      "cell_type": "code",
      "execution_count": null,
      "metadata": {
        "id": "RUkMTjrnUxXj"
      },
      "outputs": [],
      "source": []
    }
  ],
  "metadata": {
    "colab": {
      "provenance": []
    },
    "kernelspec": {
      "display_name": "Python 3",
      "name": "python3"
    },
    "language_info": {
      "name": "python"
    }
  },
  "nbformat": 4,
  "nbformat_minor": 0
}
